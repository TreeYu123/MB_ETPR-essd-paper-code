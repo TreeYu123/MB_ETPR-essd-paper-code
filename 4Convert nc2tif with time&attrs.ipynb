{
 "cells": [
  {
   "cell_type": "code",
   "execution_count": 23,
   "id": "alert-investment",
   "metadata": {},
   "outputs": [
    {
     "data": {
      "text/plain": [
       "'D:\\\\Py_works\\\\00Dh_process'"
      ]
     },
     "execution_count": 23,
     "metadata": {},
     "output_type": "execute_result"
    }
   ],
   "source": [
    "import pandas as pd\n",
    "import os\n",
    "import numpy as np\n",
    "import proplot as plot\n",
    "import matplotlib.pyplot as plt\n",
    "import matplotlib as mpl\n",
    "import geopandas as gpd\n",
    "import xarray as xr\n",
    "import rioxarray as rioxr\n",
    "from osgeo import gdal\n",
    "os.getcwd()"
   ]
  },
  {
   "cell_type": "code",
   "execution_count": 24,
   "id": "exotic-gentleman",
   "metadata": {},
   "outputs": [],
   "source": [
    "pth='D:\\\\Key_works\\\\20231212dh_calculate\\\\xnhl_test\\\\gla_level_dh_final'\n",
    "pthin=pth+'\\\\nc_yr'\n",
    "out_pth1=pth+'\\\\nc_yr_tif_yr'\n",
    "out_pth2=pth+'\\\\nc_yr_tif_err'"
   ]
  },
  {
   "cell_type": "code",
   "execution_count": 25,
   "id": "approved-replica",
   "metadata": {},
   "outputs": [],
   "source": [
    "flst=os.listdir(pthin)"
   ]
  },
  {
   "cell_type": "code",
   "execution_count": 26,
   "id": "palestinian-rehabilitation",
   "metadata": {},
   "outputs": [],
   "source": [
    "def tif_out_stp2(gla_dh_fill,myattrs,outnm_tif):\n",
    "    ########输出topo dh 的netcdf版本#############################\n",
    "    myattrs1={'transform': myattrs['transform'],\n",
    "             'crs': myattrs['crs'],\n",
    "             'res': (30.0, 30.0),'nodatavals': '9999','scales': (1.0,),'offsets': (0.0,)}\n",
    "\n",
    "    gla_dh_fill.attrs=myattrs1\n",
    "    gla_dh_fill.fillna(9999)\n",
    "    gla_dh_fill.rio.to_raster(outnm_tif)"
   ]
  },
  {
   "cell_type": "code",
   "execution_count": 27,
   "id": "liked-hampshire",
   "metadata": {},
   "outputs": [],
   "source": [
    "for nm in flst:\n",
    "    nmin=pthin+'\\\\'+nm\n",
    "    ds=xr.open_dataset(nmin)\n",
    "    err=ds.attrs['dh error']\n",
    "    ds_err=ds['dxt_id']*0+err\n",
    "    #aaaa\n",
    "    outnm1=out_pth1+'\\\\'+nm[:-3]+'.tif'\n",
    "    outnm2=out_pth2+'\\\\'+nm[:-3]+'.tif'\n",
    "    \n",
    "    tif_out_stp2(ds['dxt_id'],ds.attrs,outnm1)\n",
    "    tif_out_stp2(ds_err,ds.attrs,outnm2)\n",
    "    #break"
   ]
  },
  {
   "cell_type": "code",
   "execution_count": 28,
   "id": "7613eefc-8cf3-41d0-9692-9a11b6c76135",
   "metadata": {},
   "outputs": [],
   "source": [
    "\n",
    "for nm in flst:\n",
    "    nmin=pthin+'\\\\'+nm\n",
    "    outnm3=pth+'\\\\nc_yr_dh_fill\\\\'+nm[:-3]+'.tif'\n",
    "    outnm4=pth+'\\\\nc_yr_dh\\\\'+nm[:-3]+'.tif'\n",
    "    ds=xr.open_dataset(nmin)\n",
    "    tif_out_stp2(ds['topo_dh_fill'],ds.attrs,outnm3)\n",
    "    tif_out_stp2(ds['topo_dh'],ds.attrs,outnm4)\n",
    "    "
   ]
  },
  {
   "cell_type": "code",
   "execution_count": null,
   "id": "e3fd46f1-020f-4050-93ec-4da0e5e1ca5e",
   "metadata": {},
   "outputs": [],
   "source": [
    "import shutil,glob\n",
    "tif_pth=pth+'\\\\nc_tif'\n",
    "tif_out=pth+'\\\\nc_yr_dh\\\\'\n",
    "for i in flst:\n",
    "    innm=tif_pth+'\\\\'+i[:-3]+'.tif'\n",
    "    #outpth='dh1970\\\\tif\\\\'\n",
    "    #shutil.copy(innm,outpth)\n",
    "    shutil.copy(innm,tif_out)"
   ]
  },
  {
   "cell_type": "markdown",
   "id": "807139c7-2007-4cc3-a2ec-4414b1bd02d8",
   "metadata": {},
   "source": [
    "### 合并成一个tif 方便格网数据生成  "
   ]
  },
  {
   "cell_type": "code",
   "execution_count": 10,
   "id": "365b918e-494f-4cae-bd83-33fbae779581",
   "metadata": {},
   "outputs": [],
   "source": [
    "flst=os.listdir(pthin)"
   ]
  },
  {
   "cell_type": "code",
   "execution_count": null,
   "id": "satisfactory-istanbul",
   "metadata": {},
   "outputs": [],
   "source": [
    "ralist1=[]\n",
    "ralist2=[]\n",
    "ralist=[]\n",
    "for nm in flst:\n",
    "    ras1=out_pth1+'/'+nm\n",
    "    ralist1.append(ras1)\n",
    "    ras2=out_pth2+'/'+nm\n",
    "    ralist2.append(ras2)\n",
    "    ras=pthin+'/'+nm\n",
    "    ralist.append(ras)\n",
    "#aaaa      \n",
    "out=pth+'/'+'xnhl_dh_all_effe.tif'\n",
    "out1=pth+'/'+'xnhl_dh_all_effe_yr.tif'\n",
    "out2=pth+'/'+'xnhl_dh_all_effe_err.tif'\n",
    "#gdal.Warp(out, ralist,resampleAlg ='Average')\n",
    "gdal.Warp(out1, ralist1,resampleAlg ='mode')\n",
    "gdal.Warp(out2, ralist2,resampleAlg ='Average')"
   ]
  },
  {
   "cell_type": "code",
   "execution_count": null,
   "id": "c46a9aca-61f6-4f12-a518-a95951173be1",
   "metadata": {},
   "outputs": [],
   "source": []
  }
 ],
 "metadata": {
  "kernelspec": {
   "display_name": "py39",
   "language": "python",
   "name": "py39"
  },
  "language_info": {
   "codemirror_mode": {
    "name": "ipython",
    "version": 3
   },
   "file_extension": ".py",
   "mimetype": "text/x-python",
   "name": "python",
   "nbconvert_exporter": "python",
   "pygments_lexer": "ipython3",
   "version": "3.9.19"
  }
 },
 "nbformat": 4,
 "nbformat_minor": 5
}
