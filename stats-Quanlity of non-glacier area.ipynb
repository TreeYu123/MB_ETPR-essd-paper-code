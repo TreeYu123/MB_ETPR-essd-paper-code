{
 "cells": [
  {
   "cell_type": "code",
   "execution_count": null,
   "id": "interpreted-istanbul",
   "metadata": {},
   "outputs": [],
   "source": [
    "import pandas as pd\n",
    "import os\n",
    "import numpy as np\n",
    "import proplot as plot\n",
    "import matplotlib.pyplot as plt\n",
    "import matplotlib as mpl\n",
    "import geopandas as gpd\n",
    "import xarray as xr\n",
    "import rioxarray as rioxr\n",
    "from osgeo import gdal\n",
    "os.getcwd()"
   ]
  },
  {
   "cell_type": "markdown",
   "id": "blind-lloyd",
   "metadata": {},
   "source": [
    "#### 分流域统计分析"
   ]
  },
  {
   "cell_type": "code",
   "execution_count": 312,
   "id": "bibliographic-contemporary",
   "metadata": {},
   "outputs": [],
   "source": [
    "flist=[i for i in os.listdir('stat_data') if i[-4:]=='.csv']"
   ]
  },
  {
   "cell_type": "code",
   "execution_count": 317,
   "id": "gorgeous-student",
   "metadata": {},
   "outputs": [],
   "source": [
    "#f=open('basin_gp.csv','w')\n",
    "#f.write('group,lon,lat,nm\\n')\n",
    "#for nm in flist:\n",
    "#    kh=nm.split('_')\n",
    "#    f.write('%s,%s,%s,%s\\n'%(kh[0],kh[1],kh[2][:-4],nm))\n",
    "#f.close()"
   ]
  },
  {
   "cell_type": "code",
   "execution_count": 318,
   "id": "noble-custom",
   "metadata": {},
   "outputs": [],
   "source": [
    "dff=pd.read_csv('basin_gp_all.csv')"
   ]
  },
  {
   "cell_type": "code",
   "execution_count": 322,
   "id": "initial-bidding",
   "metadata": {},
   "outputs": [
    {
     "data": {
      "text/plain": [
       "array(['Yangtze', 'Brahmaputra', 'Yellow', 'Mekong', 'Salween',\n",
       "       'Irrawaddy', 'Ganges'], dtype=object)"
      ]
     },
     "execution_count": 322,
     "metadata": {},
     "output_type": "execute_result"
    }
   ],
   "source": [
    "bsnm=dff.basin.unique()\n",
    "bsnm"
   ]
  },
  {
   "cell_type": "code",
   "execution_count": 1224,
   "id": "planned-excitement",
   "metadata": {},
   "outputs": [
    {
     "name": "stdout",
     "output_type": "stream",
     "text": [
      "Ganges\n"
     ]
    }
   ],
   "source": [
    "for bn in bsnm:\n",
    "    nnmm='Figs/%s.svg'%bn\n",
    "    if os.path.exists(nnmm):\n",
    "        continue\n",
    "    print(bn)\n",
    "    nmls=dff[dff.basin==bn]['nm'].values\n",
    "    tmp_ls=[]\n",
    "    for nm in nmls:\n",
    "        df_tmp=pd.read_csv('stat_data/%s'%nm)\n",
    "        tmp_ls.append(df_tmp)\n",
    "    dff_all=pd.concat(tmp_ls,axis=0)\n",
    "    break"
   ]
  },
  {
   "cell_type": "code",
   "execution_count": 1225,
   "id": "grateful-ready",
   "metadata": {},
   "outputs": [
    {
     "data": {
      "text/html": [
       "<div>\n",
       "<style scoped>\n",
       "    .dataframe tbody tr th:only-of-type {\n",
       "        vertical-align: middle;\n",
       "    }\n",
       "\n",
       "    .dataframe tbody tr th {\n",
       "        vertical-align: top;\n",
       "    }\n",
       "\n",
       "    .dataframe thead th {\n",
       "        text-align: right;\n",
       "    }\n",
       "</style>\n",
       "<table border=\"1\" class=\"dataframe\">\n",
       "  <thead>\n",
       "    <tr style=\"text-align: right;\">\n",
       "      <th></th>\n",
       "      <th>band</th>\n",
       "      <th>x</th>\n",
       "      <th>y</th>\n",
       "      <th>h</th>\n",
       "      <th>dh</th>\n",
       "      <th>slp</th>\n",
       "      <th>asp</th>\n",
       "      <th>lucc</th>\n",
       "      <th>asp_sign</th>\n",
       "      <th>slp_sign</th>\n",
       "      <th>h_sign</th>\n",
       "    </tr>\n",
       "  </thead>\n",
       "  <tbody>\n",
       "    <tr>\n",
       "      <th>0</th>\n",
       "      <td>1</td>\n",
       "      <td>78.749243</td>\n",
       "      <td>31.500273</td>\n",
       "      <td>5022.0</td>\n",
       "      <td>26.172121</td>\n",
       "      <td>11.082644</td>\n",
       "      <td>128.08878</td>\n",
       "      <td>90.0</td>\n",
       "      <td>SE</td>\n",
       "      <td>10_20</td>\n",
       "      <td>5100.0</td>\n",
       "    </tr>\n",
       "    <tr>\n",
       "      <th>1</th>\n",
       "      <td>1</td>\n",
       "      <td>78.749243</td>\n",
       "      <td>31.499963</td>\n",
       "      <td>5018.0</td>\n",
       "      <td>24.312223</td>\n",
       "      <td>19.521154</td>\n",
       "      <td>156.44774</td>\n",
       "      <td>90.0</td>\n",
       "      <td>SE</td>\n",
       "      <td>10_20</td>\n",
       "      <td>5100.0</td>\n",
       "    </tr>\n",
       "    <tr>\n",
       "      <th>2</th>\n",
       "      <td>1</td>\n",
       "      <td>78.749243</td>\n",
       "      <td>31.499653</td>\n",
       "      <td>5004.0</td>\n",
       "      <td>10.891443</td>\n",
       "      <td>10.924911</td>\n",
       "      <td>103.73627</td>\n",
       "      <td>90.0</td>\n",
       "      <td>E</td>\n",
       "      <td>10_20</td>\n",
       "      <td>5100.0</td>\n",
       "    </tr>\n",
       "    <tr>\n",
       "      <th>3</th>\n",
       "      <td>1</td>\n",
       "      <td>78.749243</td>\n",
       "      <td>31.499343</td>\n",
       "      <td>5002.0</td>\n",
       "      <td>15.312435</td>\n",
       "      <td>14.826505</td>\n",
       "      <td>118.17859</td>\n",
       "      <td>90.0</td>\n",
       "      <td>SE</td>\n",
       "      <td>10_20</td>\n",
       "      <td>5100.0</td>\n",
       "    </tr>\n",
       "    <tr>\n",
       "      <th>4</th>\n",
       "      <td>1</td>\n",
       "      <td>78.749243</td>\n",
       "      <td>31.499033</td>\n",
       "      <td>4992.0</td>\n",
       "      <td>8.122230</td>\n",
       "      <td>18.275606</td>\n",
       "      <td>119.47589</td>\n",
       "      <td>90.0</td>\n",
       "      <td>SE</td>\n",
       "      <td>10_20</td>\n",
       "      <td>4900.0</td>\n",
       "    </tr>\n",
       "  </tbody>\n",
       "</table>\n",
       "</div>"
      ],
      "text/plain": [
       "   band          x          y       h         dh        slp        asp  lucc  \\\n",
       "0     1  78.749243  31.500273  5022.0  26.172121  11.082644  128.08878  90.0   \n",
       "1     1  78.749243  31.499963  5018.0  24.312223  19.521154  156.44774  90.0   \n",
       "2     1  78.749243  31.499653  5004.0  10.891443  10.924911  103.73627  90.0   \n",
       "3     1  78.749243  31.499343  5002.0  15.312435  14.826505  118.17859  90.0   \n",
       "4     1  78.749243  31.499033  4992.0   8.122230  18.275606  119.47589  90.0   \n",
       "\n",
       "  asp_sign slp_sign  h_sign  \n",
       "0       SE    10_20  5100.0  \n",
       "1       SE    10_20  5100.0  \n",
       "2        E    10_20  5100.0  \n",
       "3       SE    10_20  5100.0  \n",
       "4       SE    10_20  4900.0  "
      ]
     },
     "execution_count": 1225,
     "metadata": {},
     "output_type": "execute_result"
    }
   ],
   "source": [
    "dff_all.head()"
   ]
  },
  {
   "cell_type": "code",
   "execution_count": 1226,
   "id": "pretty-dublin",
   "metadata": {},
   "outputs": [],
   "source": [
    "dff_all=dff_all[(dff_all['dh']>-30)&(dff_all['dh']<30)]"
   ]
  },
  {
   "cell_type": "code",
   "execution_count": 1227,
   "id": "rental-rocket",
   "metadata": {},
   "outputs": [],
   "source": [
    "###计算lucc重新分类\n",
    "lcc=['grassland','shrubland','forest land','water','bare land','snow']\n",
    "dff_all.loc[(dff_all.lucc==10)|(dff_all.lucc==30),'lucc_sign']=lcc[0]\n",
    "dff_all.loc[(dff_all.lucc==40)|(dff_all.lucc==70),'lucc_sign']=lcc[1]\n",
    "dff_all.loc[(dff_all.lucc==20),'lucc_sign']=lcc[2]\n",
    "dff_all.loc[(dff_all.lucc==50)|(dff_all.lucc==60),'lucc_sign']=lcc[3]\n",
    "dff_all.loc[(dff_all.lucc==80)|(dff_all.lucc==90),'lucc_sign']=lcc[4]\n",
    "dff_all.loc[(dff_all.lucc==100),'lucc_sign']=lcc[5]"
   ]
  },
  {
   "cell_type": "code",
   "execution_count": 1228,
   "id": "subsequent-vitamin",
   "metadata": {},
   "outputs": [],
   "source": [
    "#################################坡度分布\n",
    "luc_st=dff_all.groupby(['slp_sign','lucc_sign'])['h'].count().to_xarray()"
   ]
  },
  {
   "cell_type": "code",
   "execution_count": 1229,
   "id": "considered-outside",
   "metadata": {},
   "outputs": [],
   "source": [
    "dfpt_cnt=luc_st.to_dataframe().reset_index()\n",
    "ddf_cnt=dfpt_cnt.pivot(\"lucc_sign\", \"slp_sign\", \"h\").T\n",
    "#换算为比例\n",
    "my_cnt=ddf_cnt/(ddf_cnt.sum(axis=1).values).repeat(6).reshape(7,6)*100\n",
    "pt_all=ddf_cnt.sum(axis=1)/ddf_cnt.sum(axis=1).sum()*100"
   ]
  },
  {
   "cell_type": "code",
   "execution_count": 1230,
   "id": "exclusive-federation",
   "metadata": {},
   "outputs": [],
   "source": [
    "###计算dh情况\n",
    "ds_slp_lcc=dff_all.groupby(['slp_sign','lucc_sign'])['dh'].mean().to_xarray()"
   ]
  },
  {
   "cell_type": "code",
   "execution_count": 1231,
   "id": "illegal-blame",
   "metadata": {},
   "outputs": [],
   "source": [
    "dfpt=ds_slp_lcc.to_dataframe().reset_index()\n",
    "ddf=dfpt.pivot(\"lucc_sign\", \"slp_sign\", \"dh\")"
   ]
  },
  {
   "cell_type": "code",
   "execution_count": 1232,
   "id": "outstanding-resident",
   "metadata": {},
   "outputs": [
    {
     "data": {
      "text/html": [
       "<div>\n",
       "<style scoped>\n",
       "    .dataframe tbody tr th:only-of-type {\n",
       "        vertical-align: middle;\n",
       "    }\n",
       "\n",
       "    .dataframe tbody tr th {\n",
       "        vertical-align: top;\n",
       "    }\n",
       "\n",
       "    .dataframe thead th {\n",
       "        text-align: right;\n",
       "    }\n",
       "</style>\n",
       "<table border=\"1\" class=\"dataframe\">\n",
       "  <thead>\n",
       "    <tr style=\"text-align: right;\">\n",
       "      <th>slp_sign</th>\n",
       "      <th>0_10</th>\n",
       "      <th>10_20</th>\n",
       "      <th>20_30</th>\n",
       "      <th>30_40</th>\n",
       "      <th>40_50</th>\n",
       "      <th>50_60</th>\n",
       "      <th>&gt;60</th>\n",
       "    </tr>\n",
       "    <tr>\n",
       "      <th>lucc_sign</th>\n",
       "      <th></th>\n",
       "      <th></th>\n",
       "      <th></th>\n",
       "      <th></th>\n",
       "      <th></th>\n",
       "      <th></th>\n",
       "      <th></th>\n",
       "    </tr>\n",
       "  </thead>\n",
       "  <tbody>\n",
       "    <tr>\n",
       "      <th>bare land</th>\n",
       "      <td>2.192020</td>\n",
       "      <td>1.559115</td>\n",
       "      <td>0.428734</td>\n",
       "      <td>-0.214477</td>\n",
       "      <td>-0.664122</td>\n",
       "      <td>-0.843741</td>\n",
       "      <td>-0.682660</td>\n",
       "    </tr>\n",
       "    <tr>\n",
       "      <th>forest land</th>\n",
       "      <td>3.151394</td>\n",
       "      <td>3.041150</td>\n",
       "      <td>1.603660</td>\n",
       "      <td>0.649871</td>\n",
       "      <td>-0.267390</td>\n",
       "      <td>-0.753229</td>\n",
       "      <td>-0.689036</td>\n",
       "    </tr>\n",
       "    <tr>\n",
       "      <th>grassland</th>\n",
       "      <td>1.776361</td>\n",
       "      <td>1.416927</td>\n",
       "      <td>0.340964</td>\n",
       "      <td>-0.508799</td>\n",
       "      <td>-1.079225</td>\n",
       "      <td>-1.316643</td>\n",
       "      <td>-1.033720</td>\n",
       "    </tr>\n",
       "    <tr>\n",
       "      <th>shrubland</th>\n",
       "      <td>1.102659</td>\n",
       "      <td>1.388305</td>\n",
       "      <td>0.486759</td>\n",
       "      <td>-0.059704</td>\n",
       "      <td>-0.390796</td>\n",
       "      <td>-0.728182</td>\n",
       "      <td>-1.291027</td>\n",
       "    </tr>\n",
       "    <tr>\n",
       "      <th>snow</th>\n",
       "      <td>-0.994349</td>\n",
       "      <td>-0.761560</td>\n",
       "      <td>-1.174226</td>\n",
       "      <td>-1.355202</td>\n",
       "      <td>-1.328055</td>\n",
       "      <td>-0.943303</td>\n",
       "      <td>-0.326314</td>\n",
       "    </tr>\n",
       "    <tr>\n",
       "      <th>water</th>\n",
       "      <td>-4.576384</td>\n",
       "      <td>-2.069369</td>\n",
       "      <td>0.099606</td>\n",
       "      <td>-0.582487</td>\n",
       "      <td>-3.168058</td>\n",
       "      <td>-4.839638</td>\n",
       "      <td>-4.910366</td>\n",
       "    </tr>\n",
       "  </tbody>\n",
       "</table>\n",
       "</div>"
      ],
      "text/plain": [
       "slp_sign         0_10     10_20     20_30     30_40     40_50     50_60  \\\n",
       "lucc_sign                                                                 \n",
       "bare land    2.192020  1.559115  0.428734 -0.214477 -0.664122 -0.843741   \n",
       "forest land  3.151394  3.041150  1.603660  0.649871 -0.267390 -0.753229   \n",
       "grassland    1.776361  1.416927  0.340964 -0.508799 -1.079225 -1.316643   \n",
       "shrubland    1.102659  1.388305  0.486759 -0.059704 -0.390796 -0.728182   \n",
       "snow        -0.994349 -0.761560 -1.174226 -1.355202 -1.328055 -0.943303   \n",
       "water       -4.576384 -2.069369  0.099606 -0.582487 -3.168058 -4.839638   \n",
       "\n",
       "slp_sign          >60  \n",
       "lucc_sign              \n",
       "bare land   -0.682660  \n",
       "forest land -0.689036  \n",
       "grassland   -1.033720  \n",
       "shrubland   -1.291027  \n",
       "snow        -0.326314  \n",
       "water       -4.910366  "
      ]
     },
     "execution_count": 1232,
     "metadata": {},
     "output_type": "execute_result"
    }
   ],
   "source": [
    "ddf"
   ]
  },
  {
   "cell_type": "code",
   "execution_count": 1233,
   "id": "fossil-buffer",
   "metadata": {},
   "outputs": [],
   "source": [
    "#######################海拔分布\n",
    "ExtractByStrip(dff_all,'h','h_sign500',500)\n",
    "#dff_all['h_sign'].unique()"
   ]
  },
  {
   "cell_type": "code",
   "execution_count": 1234,
   "id": "contrary-container",
   "metadata": {},
   "outputs": [],
   "source": [
    "def supp(dfpt_h):\n",
    "    myh=range(950,6500,500)\n",
    "    sss=[]\n",
    "    for k in myh:\n",
    "        jglen=len(dfpt_h[dfpt_h['h_sign500']==k])\n",
    "        if jglen==0:\n",
    "            ddf_new=pd.DataFrame([[k for i in range(len(lcc))],lcc,[np.nan for i in range(len(lcc))]],\n",
    "                                 index=['h_sign500','lucc_sign',dfpt_h.columns[-1]]).T\n",
    "            sss.append(ddf_new)    \n",
    "    sss.append(dfpt_h)\n",
    "    return pd.concat(sss)"
   ]
  },
  {
   "cell_type": "code",
   "execution_count": 1235,
   "id": "alike-investor",
   "metadata": {},
   "outputs": [],
   "source": [
    "ds_h_lcc=dff_all.groupby(['h_sign500','lucc_sign'])['dh'].mean().to_xarray()\n",
    "ds_h_lcc=ds_h_lcc.sel(h_sign500=slice(950,6450))\n",
    "dfpt_h=ds_h_lcc.to_dataframe().reset_index()\n",
    "dfpt_h=supp(dfpt_h)\n",
    "ddf_h=dfpt_h.pivot(\"lucc_sign\", \"h_sign500\", \"dh\")\n",
    "ddf_h.columns=ddf_h.columns.astype(int).astype(str)"
   ]
  },
  {
   "cell_type": "code",
   "execution_count": null,
   "id": "graphic-roman",
   "metadata": {},
   "outputs": [],
   "source": []
  },
  {
   "cell_type": "code",
   "execution_count": 1236,
   "id": "yellow-winner",
   "metadata": {},
   "outputs": [],
   "source": [
    "luc_st_h=dff_all.groupby(['h_sign500','lucc_sign'])['h'].count().to_xarray()\n",
    "luc_st_h=luc_st_h.sel(h_sign500=slice(950,6450))\n",
    "dfpt_h_cnt=luc_st_h.to_dataframe().reset_index()\n",
    "\n",
    "dfpt_h_cnt=supp(dfpt_h_cnt)\n",
    "ddf_h_cnt=dfpt_h_cnt.pivot(\"lucc_sign\", \"h_sign500\", \"h\").T\n",
    "ddf_h_cnt.index=ddf_h_cnt.index.values.astype(int).astype(str)\n",
    "#换算为比例\n",
    "my_cnt_h=ddf_h_cnt/(ddf_h_cnt.sum(axis=1).values).repeat(6).reshape(12,6)*100\n",
    "pt_all_h=ddf_h_cnt.sum(axis=1)/ddf_h_cnt.sum(axis=1).sum()*100"
   ]
  },
  {
   "cell_type": "code",
   "execution_count": 1237,
   "id": "cognitive-jersey",
   "metadata": {},
   "outputs": [
    {
     "data": {
      "text/plain": [
       "array([ 950., 1450., 1950., 2450., 2950., 3450., 3950., 4450., 4950.,\n",
       "       5450., 5950., 6450.])"
      ]
     },
     "execution_count": 1237,
     "metadata": {},
     "output_type": "execute_result"
    }
   ],
   "source": [
    "dfpt_h_cnt['h_sign500'].unique()"
   ]
  },
  {
   "cell_type": "code",
   "execution_count": 1238,
   "id": "changing-pound",
   "metadata": {},
   "outputs": [],
   "source": [
    "#########################坡向分布\n",
    "ds_asp_lcc=dff_all.groupby(['asp_sign','lucc_sign'])['dh'].mean().to_xarray()\n",
    "dfpt_asp=ds_asp_lcc.to_dataframe().reset_index()\n",
    "ddf_asp=dfpt_asp.pivot(\"lucc_sign\", \"asp_sign\", \"dh\")"
   ]
  },
  {
   "cell_type": "code",
   "execution_count": 1239,
   "id": "renewable-photographer",
   "metadata": {},
   "outputs": [],
   "source": [
    "luc_st_asp=dff_all.groupby(['asp_sign','lucc_sign'])['h'].count().to_xarray()\n",
    "dfpt_asp_cnt=luc_st_asp.to_dataframe().reset_index()\n",
    "ddf_asp_cnt=dfpt_asp_cnt.pivot(\"lucc_sign\", \"asp_sign\", \"h\").T\n",
    "#换算为比例\n",
    "my_cnt_asp=ddf_asp_cnt/(ddf_asp_cnt.sum(axis=1).values).repeat(6).reshape(8,6)*100\n",
    "pt_all_asp=ddf_asp_cnt.sum(axis=1)/ddf_asp_cnt.sum(axis=1).sum()*100"
   ]
  },
  {
   "cell_type": "code",
   "execution_count": 1240,
   "id": "framed-warner",
   "metadata": {},
   "outputs": [
    {
     "data": {
      "text/plain": [
       "Index(['950', '1450', '1950', '2450', '2950', '3450', '3950', '4450', '4950',\n",
       "       '5450', '5950', '6450'],\n",
       "      dtype='object')"
      ]
     },
     "execution_count": 1240,
     "metadata": {},
     "output_type": "execute_result"
    }
   ],
   "source": [
    "pt_all_h.index"
   ]
  },
  {
   "cell_type": "code",
   "execution_count": 1241,
   "id": "gentle-envelope",
   "metadata": {},
   "outputs": [
    {
     "data": {
      "text/html": [
       "<div>\n",
       "<style scoped>\n",
       "    .dataframe tbody tr th:only-of-type {\n",
       "        vertical-align: middle;\n",
       "    }\n",
       "\n",
       "    .dataframe tbody tr th {\n",
       "        vertical-align: top;\n",
       "    }\n",
       "\n",
       "    .dataframe thead th {\n",
       "        text-align: right;\n",
       "    }\n",
       "</style>\n",
       "<table border=\"1\" class=\"dataframe\">\n",
       "  <thead>\n",
       "    <tr style=\"text-align: right;\">\n",
       "      <th>slp_sign</th>\n",
       "      <th>0_10</th>\n",
       "      <th>10_20</th>\n",
       "      <th>20_30</th>\n",
       "      <th>30_40</th>\n",
       "      <th>40_50</th>\n",
       "      <th>50_60</th>\n",
       "      <th>&gt;60</th>\n",
       "    </tr>\n",
       "    <tr>\n",
       "      <th>lucc_sign</th>\n",
       "      <th></th>\n",
       "      <th></th>\n",
       "      <th></th>\n",
       "      <th></th>\n",
       "      <th></th>\n",
       "      <th></th>\n",
       "      <th></th>\n",
       "    </tr>\n",
       "  </thead>\n",
       "  <tbody>\n",
       "    <tr>\n",
       "      <th>bare land</th>\n",
       "      <td>2.192020</td>\n",
       "      <td>1.559115</td>\n",
       "      <td>0.428734</td>\n",
       "      <td>-0.214477</td>\n",
       "      <td>-0.664122</td>\n",
       "      <td>-0.843741</td>\n",
       "      <td>-0.682660</td>\n",
       "    </tr>\n",
       "    <tr>\n",
       "      <th>forest land</th>\n",
       "      <td>3.151394</td>\n",
       "      <td>3.041150</td>\n",
       "      <td>1.603660</td>\n",
       "      <td>0.649871</td>\n",
       "      <td>-0.267390</td>\n",
       "      <td>-0.753229</td>\n",
       "      <td>-0.689036</td>\n",
       "    </tr>\n",
       "    <tr>\n",
       "      <th>grassland</th>\n",
       "      <td>1.776361</td>\n",
       "      <td>1.416927</td>\n",
       "      <td>0.340964</td>\n",
       "      <td>-0.508799</td>\n",
       "      <td>-1.079225</td>\n",
       "      <td>-1.316643</td>\n",
       "      <td>-1.033720</td>\n",
       "    </tr>\n",
       "    <tr>\n",
       "      <th>shrubland</th>\n",
       "      <td>1.102659</td>\n",
       "      <td>1.388305</td>\n",
       "      <td>0.486759</td>\n",
       "      <td>-0.059704</td>\n",
       "      <td>-0.390796</td>\n",
       "      <td>-0.728182</td>\n",
       "      <td>-1.291027</td>\n",
       "    </tr>\n",
       "    <tr>\n",
       "      <th>snow</th>\n",
       "      <td>-0.994349</td>\n",
       "      <td>-0.761560</td>\n",
       "      <td>-1.174226</td>\n",
       "      <td>-1.355202</td>\n",
       "      <td>-1.328055</td>\n",
       "      <td>-0.943303</td>\n",
       "      <td>-0.326314</td>\n",
       "    </tr>\n",
       "    <tr>\n",
       "      <th>water</th>\n",
       "      <td>-4.576384</td>\n",
       "      <td>-2.069369</td>\n",
       "      <td>0.099606</td>\n",
       "      <td>-0.582487</td>\n",
       "      <td>-3.168058</td>\n",
       "      <td>-4.839638</td>\n",
       "      <td>-4.910366</td>\n",
       "    </tr>\n",
       "  </tbody>\n",
       "</table>\n",
       "</div>"
      ],
      "text/plain": [
       "slp_sign         0_10     10_20     20_30     30_40     40_50     50_60  \\\n",
       "lucc_sign                                                                 \n",
       "bare land    2.192020  1.559115  0.428734 -0.214477 -0.664122 -0.843741   \n",
       "forest land  3.151394  3.041150  1.603660  0.649871 -0.267390 -0.753229   \n",
       "grassland    1.776361  1.416927  0.340964 -0.508799 -1.079225 -1.316643   \n",
       "shrubland    1.102659  1.388305  0.486759 -0.059704 -0.390796 -0.728182   \n",
       "snow        -0.994349 -0.761560 -1.174226 -1.355202 -1.328055 -0.943303   \n",
       "water       -4.576384 -2.069369  0.099606 -0.582487 -3.168058 -4.839638   \n",
       "\n",
       "slp_sign          >60  \n",
       "lucc_sign              \n",
       "bare land   -0.682660  \n",
       "forest land -0.689036  \n",
       "grassland   -1.033720  \n",
       "shrubland   -1.291027  \n",
       "snow        -0.326314  \n",
       "water       -4.910366  "
      ]
     },
     "execution_count": 1241,
     "metadata": {},
     "output_type": "execute_result"
    }
   ],
   "source": [
    "ddf"
   ]
  },
  {
   "cell_type": "code",
   "execution_count": null,
   "id": "certain-beads",
   "metadata": {},
   "outputs": [],
   "source": [
    "plt.rcParams['font.size'] = 8\n",
    "plt.rcParams['font.sans-serif']\n",
    "\n",
    "arr=[[1,1,1,1,1,1,1,3,3,3,3,3,3,3,3,3,3,3,3,5,5,5,5,5,5,5,5],\n",
    "     [1,1,1,1,1,1,1,3,3,3,3,3,3,3,3,3,3,3,3,5,5,5,5,5,5,5,5],\n",
    "     [1,1,1,1,1,1,1,3,3,3,3,3,3,3,3,3,3,3,3,5,5,5,5,5,5,5,5],\n",
    "     [1,1,1,1,1,1,1,3,3,3,3,3,3,3,3,3,3,3,3,5,5,5,5,5,5,5,5],\n",
    "     [1,1,1,1,1,1,1,3,3,3,3,3,3,3,3,3,3,3,3,5,5,5,5,5,5,5,5],\n",
    "     [2,2,2,2,2,2,2,2,2,2,2,2,2,2,2,2,2,2,2,2,2,2,2,2,2,2,2],\n",
    "     [2,2,2,2,2,2,2,2,2,2,2,2,2,2,2,2,2,2,2,2,2,2,2,2,2,2,2],\n",
    "     [4,4,4,4,4,4,4,4,4,4,4,4,4,4,4,4,4,4,4,4,4,4,4,4,4,4,4],\n",
    "     [4,4,4,4,4,4,4,4,4,4,4,4,4,4,4,4,4,4,4,4,4,4,4,4,4,4,4],\n",
    "     [4,4,4,4,4,4,4,4,4,4,4,4,4,4,4,4,4,4,4,4,4,4,4,4,4,4,4],\n",
    "     [6,6,6,6,6,6,6,6,6,6,6,6,6,6,6,6,6,6,6,6,6,6,6,6,6,6,6],\n",
    "     [6,6,6,6,6,6,6,6,6,6,6,6,6,6,6,6,6,6,6,6,6,6,6,6,6,6,6]]\n",
    "fig,ax=plot.subplots(arr,figsize=('18cm','15cm'),sharex=0,sharey=0,hspace=0.2,wspace=0.05)\n",
    "\n",
    "ax[0].heatmap(ddf,vmin=-20,vmax=20,cmap='PiYG',labels_kw={'fontsize':6})#,labels=True\n",
    "val_h=ddf.values\n",
    "x,y=val_h.shape\n",
    "for i in range(y):\n",
    "    for j in range(x): \n",
    "        if np.isnan(val_h[j][i]):\n",
    "            pass\n",
    "        else:\n",
    "            ax[0].text(i-0.4,j-0.2,str(round(val_h[j][i],2)),fontsize=6)\n",
    "ax[0].format(xlabel='Slope range (°)',ylabel='',xrotation=30)\n",
    "\n",
    "lg=ax[1].barh(my_cnt, cycle=['y','g','#94DDBC','#94B7DD','#EDFDFC','b'], edgecolor='k', stacked=True)\n",
    "ax[1].legend(bbox_to_anchor=(0, 1),loc='lower left',ncol=10)\n",
    "ax[1].format(xlim=(0,123),xticks=range(0,110,10),ylabel='',xlabel='')\n",
    "\n",
    "ax1t=ax[1].twiny()\n",
    "ax1t.plot(pt_all.values,pt_all.index,lw=1,marker='_',c='blue7',markersize=10)\n",
    "ax1t.fill_between([0,40],-1,10,facecolor='gray',alpha=0.5)\n",
    "ax1t.format(ylim=(-0.50,6.5),xlim=(-210,40),xticks=[0,10,20,30,40],xcolor='blue7',ylabel='')\n",
    "####################################################################\n",
    "#ax[2].heatmap(ddf_h.fillna(0),vmin=-10,vmax=10,color='',labels=True)\n",
    "###ddf_h[ddf_h<20]  for ganges\n",
    "ax[2].heatmap(ddf_h,vmin=-10,vmax=10,cmap='PiYG')\n",
    "val_h=ddf_h.values\n",
    "x,y=val_h.shape\n",
    "for i in range(y):\n",
    "    for j in range(x): \n",
    "        if np.isnan(val_h[j][i]):\n",
    "            pass\n",
    "        else:\n",
    "            ax[2].text(i-0.4,j-0.2,str(round(val_h[j][i],2)),fontsize=6)\n",
    "ax[2].format(yticklabels=[],ylabel='',xlabel='Elevation range (m)',xrotation=30)\n",
    "\n",
    "lg=ax[3].barh(my_cnt_h, cycle=['y','g','#94DDBC','#94B7DD','#EDFDFC','b'], edgecolor='k', stacked=True)\n",
    "ax[3].format(xlim=(0,123),xticks=range(0,110,10),ylabel='',xlabel='')\n",
    "\n",
    "ax2t=ax[3].twiny()\n",
    "ax2t.plot(pt_all_h.values,pt_all_h.index,lw=1,marker='_',c='blue7',markersize=10)\n",
    "ax2t.fill_between([0,40],-1,12,facecolor='gray',alpha=0.5)\n",
    "ax2t.format(ylim=(-0.50,11.5),xlim=(-210,40),xticks=[0,10,20,30,40],xcolor='blue7',ylabel='')\n",
    "########################################################################\n",
    "ax[4].heatmap(ddf_asp,vmin=-10,vmax=10,cmap='PiYG',labels=True,labels_kw={'fontsize':6})\n",
    "ax[4].format(yticklabels=[],ylabel='',xlabel='Aspect')\n",
    "\n",
    "lg=ax[5].barh(my_cnt_asp, cycle=['y','g','#94DDBC','#94B7DD','#EDFDFC','b'], edgecolor='k', stacked=True)\n",
    "ax[5].format(xlim=(0,123),xticks=range(0,110,10),ylabel='',xlabel='')\n",
    "\n",
    "ax4t=ax[5].twiny()\n",
    "ax4t.plot(pt_all_asp.values,pt_all_asp.index,lw=1,marker='_',c='blue7',markersize=10)\n",
    "ax4t.fill_between([0,40],-1,9,facecolor='gray',alpha=0.5)\n",
    "ax4t.format(ylim=(-0.50,7.5),xlim=(-210,40),xticks=[0,10,20,30,40],xcolor='blue7',ylabel='')\n",
    "plt.savefig('Figs/%s.svg'%bn,dpi=300,bbox_inches='tight')"
   ]
  },
  {
   "cell_type": "code",
   "execution_count": 1243,
   "id": "statewide-municipality",
   "metadata": {},
   "outputs": [],
   "source": [
    "##最后一次运行了全流域的数据，存储一下，方便下次用\n",
    "#dff_all.to_csv('stat_data_all.csv')"
   ]
  },
  {
   "cell_type": "code",
   "execution_count": null,
   "id": "experienced-tennessee",
   "metadata": {},
   "outputs": [],
   "source": []
  }
 ],
 "metadata": {
  "kernelspec": {
   "display_name": "Python 3 (ipykernel)",
   "language": "python",
   "name": "python3"
  },
  "language_info": {
   "codemirror_mode": {
    "name": "ipython",
    "version": 3
   },
   "file_extension": ".py",
   "mimetype": "text/x-python",
   "name": "python",
   "nbconvert_exporter": "python",
   "pygments_lexer": "ipython3",
   "version": "3.9.19"
  }
 },
 "nbformat": 4,
 "nbformat_minor": 5
}
