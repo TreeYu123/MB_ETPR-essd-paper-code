{
 "cells": [
  {
   "cell_type": "code",
   "execution_count": 1,
   "id": "speaking-logging",
   "metadata": {},
   "outputs": [
    {
     "data": {
      "text/plain": [
       "'D:\\\\Py_works\\\\00Dh_process'"
      ]
     },
     "execution_count": 1,
     "metadata": {},
     "output_type": "execute_result"
    }
   ],
   "source": [
    "import pandas as pd\n",
    "import os\n",
    "import numpy as np\n",
    "import proplot as plot\n",
    "import matplotlib.pyplot as plt\n",
    "import matplotlib as mpl\n",
    "import geopandas as gpd\n",
    "import xarray as xr\n",
    "import rioxarray as rioxr\n",
    "os.getcwd()"
   ]
  },
  {
   "cell_type": "code",
   "execution_count": 2,
   "id": "selected-western",
   "metadata": {},
   "outputs": [
    {
     "data": {
      "text/html": [
       "<div>\n",
       "<style scoped>\n",
       "    .dataframe tbody tr th:only-of-type {\n",
       "        vertical-align: middle;\n",
       "    }\n",
       "\n",
       "    .dataframe tbody tr th {\n",
       "        vertical-align: top;\n",
       "    }\n",
       "\n",
       "    .dataframe thead th {\n",
       "        text-align: right;\n",
       "    }\n",
       "</style>\n",
       "<table border=\"1\" class=\"dataframe\">\n",
       "  <thead>\n",
       "    <tr style=\"text-align: right;\">\n",
       "      <th></th>\n",
       "      <th>OBJECTID</th>\n",
       "      <th>TOPODEM</th>\n",
       "      <th>TOPOMAP</th>\n",
       "      <th>Scale</th>\n",
       "      <th>AcquirData</th>\n",
       "      <th>topodemID</th>\n",
       "      <th>topodemID1</th>\n",
       "      <th>OLDM</th>\n",
       "      <th>NEWM</th>\n",
       "      <th>图号</th>\n",
       "      <th>比例尺</th>\n",
       "      <th>制图时</th>\n",
       "      <th>制图_1</th>\n",
       "      <th>说明</th>\n",
       "      <th>data</th>\n",
       "      <th>region</th>\n",
       "      <th>sign</th>\n",
       "      <th>flag</th>\n",
       "      <th>yr_range</th>\n",
       "      <th>geometry</th>\n",
       "    </tr>\n",
       "  </thead>\n",
       "  <tbody>\n",
       "    <tr>\n",
       "      <th>0</th>\n",
       "      <td>2</td>\n",
       "      <td>g46e003010.tif</td>\n",
       "      <td>None</td>\n",
       "      <td>10</td>\n",
       "      <td>0</td>\n",
       "      <td>g46e003010</td>\n",
       "      <td>G46E003010</td>\n",
       "      <td>None</td>\n",
       "      <td>None</td>\n",
       "      <td>None</td>\n",
       "      <td>None</td>\n",
       "      <td>1980年11月航摄</td>\n",
       "      <td>None</td>\n",
       "      <td>None</td>\n",
       "      <td>1980</td>\n",
       "      <td>14EH</td>\n",
       "      <td>1980</td>\n",
       "      <td>0001_1980</td>\n",
       "      <td>1980-1984</td>\n",
       "      <td>POLYGON ((-1244748.017 2990507.262, -1245753.7...</td>\n",
       "    </tr>\n",
       "  </tbody>\n",
       "</table>\n",
       "</div>"
      ],
      "text/plain": [
       "   OBJECTID         TOPODEM TOPOMAP  Scale  AcquirData   topodemID  \\\n",
       "0         2  g46e003010.tif    None     10           0  g46e003010   \n",
       "\n",
       "   topodemID1  OLDM  NEWM    图号   比例尺         制图时  制图_1    说明  data region  \\\n",
       "0  G46E003010  None  None  None  None  1980年11月航摄  None  None  1980   14EH   \n",
       "\n",
       "   sign       flag   yr_range  \\\n",
       "0  1980  0001_1980  1980-1984   \n",
       "\n",
       "                                            geometry  \n",
       "0  POLYGON ((-1244748.017 2990507.262, -1245753.7...  "
      ]
     },
     "execution_count": 2,
     "metadata": {},
     "output_type": "execute_result"
    }
   ],
   "source": [
    "dxt_index_pth=\"D:\\\\Key_works\\\\20231212dh_calculate\\\\0data\\\\0shp\\\\dxt_indext_prj.shp\"\n",
    "dxt_df=gpd.read_file(dxt_index_pth)\n",
    "dxt_df.head(1)\n"
   ]
  },
  {
   "cell_type": "code",
   "execution_count": 4,
   "id": "43297049-712c-4cde-8fc7-9671903787cf",
   "metadata": {},
   "outputs": [
    {
     "data": {
      "text/html": [
       "<div>\n",
       "<style scoped>\n",
       "    .dataframe tbody tr th:only-of-type {\n",
       "        vertical-align: middle;\n",
       "    }\n",
       "\n",
       "    .dataframe tbody tr th {\n",
       "        vertical-align: top;\n",
       "    }\n",
       "\n",
       "    .dataframe thead th {\n",
       "        text-align: right;\n",
       "    }\n",
       "</style>\n",
       "<table border=\"1\" class=\"dataframe\">\n",
       "  <thead>\n",
       "    <tr style=\"text-align: right;\">\n",
       "      <th></th>\n",
       "      <th>Unnamed: 0</th>\n",
       "      <th>group_id</th>\n",
       "      <th>mean</th>\n",
       "      <th>median</th>\n",
       "      <th>mean_fill</th>\n",
       "      <th>median_fill</th>\n",
       "      <th>Glc_Area</th>\n",
       "      <th>Mean_Elev</th>\n",
       "      <th>Mean_Slp</th>\n",
       "      <th>Mean_Asp</th>\n",
       "      <th>MA_Elev</th>\n",
       "      <th>basin</th>\n",
       "    </tr>\n",
       "  </thead>\n",
       "  <tbody>\n",
       "    <tr>\n",
       "      <th>0</th>\n",
       "      <td>G101096E33298N</td>\n",
       "      <td>g0018</td>\n",
       "      <td>-2.247736</td>\n",
       "      <td>-4.501035</td>\n",
       "      <td>-2.532606</td>\n",
       "      <td>-4.124494</td>\n",
       "      <td>293031.2539</td>\n",
       "      <td>4942.3</td>\n",
       "      <td>39.4</td>\n",
       "      <td>315.8</td>\n",
       "      <td>4939.9</td>\n",
       "      <td>Yellow</td>\n",
       "    </tr>\n",
       "  </tbody>\n",
       "</table>\n",
       "</div>"
      ],
      "text/plain": [
       "       Unnamed: 0 group_id      mean    median  mean_fill  median_fill  \\\n",
       "0  G101096E33298N    g0018 -2.247736 -4.501035  -2.532606    -4.124494   \n",
       "\n",
       "      Glc_Area  Mean_Elev  Mean_Slp  Mean_Asp  MA_Elev   basin  \n",
       "0  293031.2539     4942.3      39.4     315.8   4939.9  Yellow  "
      ]
     },
     "execution_count": 4,
     "metadata": {},
     "output_type": "execute_result"
    }
   ],
   "source": [
    "pth='D:/Key_works/20231212dh_calculate/xnhl_test'\n",
    "df_log=pd.read_csv(pth+'/dh-effe-stat.csv')\n",
    "df_log.head(1)"
   ]
  },
  {
   "cell_type": "code",
   "execution_count": 5,
   "id": "yellow-bleeding",
   "metadata": {},
   "outputs": [
    {
     "data": {
      "text/html": [
       "<div>\n",
       "<style scoped>\n",
       "    .dataframe tbody tr th:only-of-type {\n",
       "        vertical-align: middle;\n",
       "    }\n",
       "\n",
       "    .dataframe tbody tr th {\n",
       "        vertical-align: top;\n",
       "    }\n",
       "\n",
       "    .dataframe thead th {\n",
       "        text-align: right;\n",
       "    }\n",
       "</style>\n",
       "<table border=\"1\" class=\"dataframe\">\n",
       "  <thead>\n",
       "    <tr style=\"text-align: right;\">\n",
       "      <th></th>\n",
       "      <th>g0068</th>\n",
       "      <th>g0377</th>\n",
       "      <th>g0001</th>\n",
       "      <th>g0072</th>\n",
       "      <th>g0381</th>\n",
       "      <th>g0253</th>\n",
       "      <th>g0350</th>\n",
       "      <th>g0518</th>\n",
       "      <th>g0063</th>\n",
       "      <th>g0497</th>\n",
       "      <th>...</th>\n",
       "      <th>g0428</th>\n",
       "      <th>g0194</th>\n",
       "      <th>g0564</th>\n",
       "      <th>g0344</th>\n",
       "      <th>g0538</th>\n",
       "      <th>g0277</th>\n",
       "      <th>g0401</th>\n",
       "      <th>g0078</th>\n",
       "      <th>g0282</th>\n",
       "      <th>g0444</th>\n",
       "    </tr>\n",
       "  </thead>\n",
       "  <tbody>\n",
       "    <tr>\n",
       "      <th>0</th>\n",
       "      <td>j47e006009</td>\n",
       "      <td>j45e019011</td>\n",
       "      <td>i48e021008</td>\n",
       "      <td>j47e005012</td>\n",
       "      <td>j45e016014</td>\n",
       "      <td>h45e012016</td>\n",
       "      <td>i44e020003</td>\n",
       "      <td>j43e005007</td>\n",
       "      <td>j47e010012</td>\n",
       "      <td>j43e017010</td>\n",
       "      <td>...</td>\n",
       "      <td>i44e016005</td>\n",
       "      <td>h47e016005</td>\n",
       "      <td>l44e019008</td>\n",
       "      <td>g45e003021</td>\n",
       "      <td>k45e007002</td>\n",
       "      <td>h45e010003</td>\n",
       "      <td>j46e020001</td>\n",
       "      <td>j47e006007</td>\n",
       "      <td>h45e012001</td>\n",
       "      <td>i44e009010</td>\n",
       "    </tr>\n",
       "  </tbody>\n",
       "</table>\n",
       "<p>1 rows × 566 columns</p>\n",
       "</div>"
      ],
      "text/plain": [
       "        g0068       g0377       g0001       g0072       g0381       g0253  \\\n",
       "0  j47e006009  j45e019011  i48e021008  j47e005012  j45e016014  h45e012016   \n",
       "\n",
       "        g0350       g0518       g0063       g0497  ...       g0428  \\\n",
       "0  i44e020003  j43e005007  j47e010012  j43e017010  ...  i44e016005   \n",
       "\n",
       "        g0194       g0564       g0344       g0538       g0277       g0401  \\\n",
       "0  h47e016005  l44e019008  g45e003021  k45e007002  h45e010003  j46e020001   \n",
       "\n",
       "        g0078       g0282       g0444  \n",
       "0  j47e006007  h45e012001  i44e009010  \n",
       "\n",
       "[1 rows x 566 columns]"
      ]
     },
     "execution_count": 5,
     "metadata": {},
     "output_type": "execute_result"
    }
   ],
   "source": [
    "df_grp=pd.read_csv('D:/Key_works/20231212dh_calculate/0data/dxt_group.csv',index_col=0)\n",
    "df_grp.head(1)"
   ]
  },
  {
   "cell_type": "code",
   "execution_count": 6,
   "id": "contained-marshall",
   "metadata": {},
   "outputs": [],
   "source": [
    "stat_df=list(df_log.iloc[:,0])"
   ]
  },
  {
   "cell_type": "code",
   "execution_count": 7,
   "id": "8f7e517c-ac27-4689-bb77-5313cb10533d",
   "metadata": {},
   "outputs": [
    {
     "data": {
      "text/plain": [
       "(14, 'G101096E33298N')"
      ]
     },
     "execution_count": 7,
     "metadata": {},
     "output_type": "execute_result"
    }
   ],
   "source": [
    "len(stat_df[0]),stat_df[0]"
   ]
  },
  {
   "cell_type": "code",
   "execution_count": 8,
   "id": "3ae80261-ce4c-46d9-859e-e97055b19f31",
   "metadata": {},
   "outputs": [],
   "source": [
    "pth_nc='D:\\\\Key_works\\\\20231212dh_calculate\\\\xnhl_test\\\\gla_level_dh_final'"
   ]
  },
  {
   "cell_type": "code",
   "execution_count": 10,
   "id": "seasonal-collaboration",
   "metadata": {},
   "outputs": [
    {
     "name": "stdout",
     "output_type": "stream",
     "text": [
      "done!\n"
     ]
    }
   ],
   "source": [
    "import glob\n",
    "newp=pth_nc+'\\\\nc_yr'\n",
    "if os.path.exists(newp):pass\n",
    "else:os.makedirs(newp)\n",
    "\n",
    "for glai in stat_df: #G075167E36993N stat_df\n",
    "    outnm=newp+'/'+glai+'.nc'\n",
    "    if os.path.exists(outnm):\n",
    "        continue\n",
    "    ########\n",
    "    gla=glob.glob(os.path.join(pth_nc+'/nc','*'+glai+'.nc'))[0]\n",
    "    ds_gla=xr.open_dataset(gla)\n",
    "    #basenm=os.path.basename(gla)\n",
    "    ######获取group内地形图索引号\n",
    "    #print(gpi)\n",
    "    gpi=ds_gla.attrs['topo process group']\n",
    "    dxt_lst=list(df_grp[gpi].dropna())\n",
    "    #########\n",
    "    ttt=[]#存储裁剪结果\n",
    "    yyy=[]#存储地形图年份\n",
    "    ds_gla['dxt_id']=(('y','x'),ds_gla['elevation'].values*0+1)#创建一个地形图年份索引图层\n",
    "    \n",
    "    \n",
    "    for flag in dxt_lst: #['0617_1957', '0612_1963','0613_1963']  dxt_df.flag\n",
    "        dxti=dxt_df[dxt_df.topodemID==flag]\n",
    "        try:\n",
    "            ds_gla_t=ds_gla.rio.write_crs(ds_gla.crs)\n",
    "            gla_index=ds_gla_t.rio.clip(dxti.geometry)\n",
    "            yyy.append(dxti.sign.values[0])\n",
    "            ttt.append(gla_index)\n",
    "            #print('yes')\n",
    "        except:\n",
    "            #print('no')\n",
    "            pass   \n",
    "    ########################################\n",
    "    if len(ttt)>1: #多于两个说明地形图进行了裁剪，此时需要分别赋予年份\n",
    "        for j,ti in enumerate(ttt):\n",
    "            pp=ti['topo_dh'].to_dataframe().dropna().reset_index()\n",
    "            for k,yi in enumerate(pp.y):\n",
    "                xi=pp.x[k]\n",
    "                ds_gla['dxt_id'].loc[(yi,xi)]=yyy[j]     \n",
    "    elif len(ttt)==1:\n",
    "        ds_gla['dxt_id']=ds_gla['dxt_id']*yyy[0]\n",
    "    else:\n",
    "        continue\n",
    "    ########################################################################\n",
    "\n",
    "    ########################################################################\n",
    "    ####存储#####\n",
    "    ds_gla.to_netcdf(outnm)\n",
    "    ###########################################    \n",
    "    #break\n",
    "print('done!')"
   ]
  },
  {
   "cell_type": "code",
   "execution_count": null,
   "id": "vocational-butter",
   "metadata": {},
   "outputs": [],
   "source": []
  },
  {
   "cell_type": "code",
   "execution_count": null,
   "id": "minor-cylinder",
   "metadata": {},
   "outputs": [],
   "source": []
  },
  {
   "cell_type": "code",
   "execution_count": null,
   "id": "chinese-surgery",
   "metadata": {},
   "outputs": [],
   "source": []
  },
  {
   "cell_type": "code",
   "execution_count": null,
   "id": "checked-wallace",
   "metadata": {},
   "outputs": [],
   "source": []
  }
 ],
 "metadata": {
  "kernelspec": {
   "display_name": "Python 3 (ipykernel)",
   "language": "python",
   "name": "python3"
  },
  "language_info": {
   "codemirror_mode": {
    "name": "ipython",
    "version": 3
   },
   "file_extension": ".py",
   "mimetype": "text/x-python",
   "name": "python",
   "nbconvert_exporter": "python",
   "pygments_lexer": "ipython3",
   "version": "3.9.19"
  }
 },
 "nbformat": 4,
 "nbformat_minor": 5
}
