{
 "cells": [
  {
   "cell_type": "code",
   "execution_count": 21,
   "id": "023a4989-080a-4752-87b4-54ff124af595",
   "metadata": {},
   "outputs": [],
   "source": [
    "import os\n",
    "import pandas as pd\n",
    "import numpy as np\n",
    "import datetime as dt\n",
    "import matplotlib.pyplot as plt\n",
    "import proplot as plot\n",
    "import geopandas as gpd\n",
    "import xarray as xr\n",
    "import rioxarray as rioxr"
   ]
  },
  {
   "cell_type": "code",
   "execution_count": 22,
   "id": "81c179ff-3cef-4fb0-b1b1-96f2ea6295ac",
   "metadata": {},
   "outputs": [],
   "source": [
    "#####在qgis里面通过按位置选择获得的西南河流所有的冰川\n",
    "pth='D:/Key_works/20231212dh_calculate/xnhl_test'\n",
    "gla_pth=pth+'/shp/gla_cgi1_basin.gpkg'\n",
    "df_gla=gpd.read_file(gla_pth)\n",
    "df_gla=df_gla.set_index('Glc_Code')"
   ]
  },
  {
   "cell_type": "code",
   "execution_count": 23,
   "id": "8e4b3198-872e-454a-a63f-e87cac76f4ab",
   "metadata": {},
   "outputs": [
    {
     "data": {
      "text/html": [
       "<div>\n",
       "<style scoped>\n",
       "    .dataframe tbody tr th:only-of-type {\n",
       "        vertical-align: middle;\n",
       "    }\n",
       "\n",
       "    .dataframe tbody tr th {\n",
       "        vertical-align: top;\n",
       "    }\n",
       "\n",
       "    .dataframe thead th {\n",
       "        text-align: right;\n",
       "    }\n",
       "</style>\n",
       "<table border=\"1\" class=\"dataframe\">\n",
       "  <thead>\n",
       "    <tr style=\"text-align: right;\">\n",
       "      <th></th>\n",
       "      <th>Drng_Code</th>\n",
       "      <th>Old_Code</th>\n",
       "      <th>Glc_Area</th>\n",
       "      <th>Max_Elev</th>\n",
       "      <th>Tail_Elev</th>\n",
       "      <th>Mean_Elev</th>\n",
       "      <th>MA_Elev</th>\n",
       "      <th>Mean_Slp</th>\n",
       "      <th>Mean_Asp</th>\n",
       "      <th>Fst_Src</th>\n",
       "      <th>...</th>\n",
       "      <th>Connect</th>\n",
       "      <th>Form</th>\n",
       "      <th>TermType</th>\n",
       "      <th>Surging</th>\n",
       "      <th>Linkages</th>\n",
       "      <th>layer</th>\n",
       "      <th>path</th>\n",
       "      <th>basin</th>\n",
       "      <th>CAL_area</th>\n",
       "      <th>geometry</th>\n",
       "    </tr>\n",
       "    <tr>\n",
       "      <th>Glc_Code</th>\n",
       "      <th></th>\n",
       "      <th></th>\n",
       "      <th></th>\n",
       "      <th></th>\n",
       "      <th></th>\n",
       "      <th></th>\n",
       "      <th></th>\n",
       "      <th></th>\n",
       "      <th></th>\n",
       "      <th></th>\n",
       "      <th></th>\n",
       "      <th></th>\n",
       "      <th></th>\n",
       "      <th></th>\n",
       "      <th></th>\n",
       "      <th></th>\n",
       "      <th></th>\n",
       "      <th></th>\n",
       "      <th></th>\n",
       "      <th></th>\n",
       "      <th></th>\n",
       "    </tr>\n",
       "  </thead>\n",
       "  <tbody>\n",
       "    <tr>\n",
       "      <th>G098661E38234N</th>\n",
       "      <td>5Y444G</td>\n",
       "      <td>5Y444G0008</td>\n",
       "      <td>2.019998e+07</td>\n",
       "      <td>5286.5</td>\n",
       "      <td>4283.0</td>\n",
       "      <td>4809.9</td>\n",
       "      <td>4825.0</td>\n",
       "      <td>13.9</td>\n",
       "      <td>338.0</td>\n",
       "      <td>10-47-66</td>\n",
       "      <td>...</td>\n",
       "      <td>NaN</td>\n",
       "      <td>NaN</td>\n",
       "      <td>NaN</td>\n",
       "      <td>NaN</td>\n",
       "      <td>NaN</td>\n",
       "      <td>CGI1_link2RGI — joined_layer</td>\n",
       "      <td>D:/Key_works/20231212dh_calculate/gla/CGI1_lin...</td>\n",
       "      <td>Yellow</td>\n",
       "      <td>2.019998e+07</td>\n",
       "      <td>MULTIPOLYGON (((-539810.688 4118734.500, -5397...</td>\n",
       "    </tr>\n",
       "  </tbody>\n",
       "</table>\n",
       "<p>1 rows × 44 columns</p>\n",
       "</div>"
      ],
      "text/plain": [
       "               Drng_Code    Old_Code      Glc_Area  Max_Elev  Tail_Elev  \\\n",
       "Glc_Code                                                                  \n",
       "G098661E38234N    5Y444G  5Y444G0008  2.019998e+07    5286.5     4283.0   \n",
       "\n",
       "                Mean_Elev  MA_Elev  Mean_Slp  Mean_Asp   Fst_Src  ...  \\\n",
       "Glc_Code                                                          ...   \n",
       "G098661E38234N     4809.9   4825.0      13.9     338.0  10-47-66  ...   \n",
       "\n",
       "                Connect Form TermType Surging Linkages  \\\n",
       "Glc_Code                                                 \n",
       "G098661E38234N      NaN  NaN      NaN     NaN      NaN   \n",
       "\n",
       "                                       layer  \\\n",
       "Glc_Code                                       \n",
       "G098661E38234N  CGI1_link2RGI — joined_layer   \n",
       "\n",
       "                                                             path   basin  \\\n",
       "Glc_Code                                                                    \n",
       "G098661E38234N  D:/Key_works/20231212dh_calculate/gla/CGI1_lin...  Yellow   \n",
       "\n",
       "                    CAL_area  \\\n",
       "Glc_Code                       \n",
       "G098661E38234N  2.019998e+07   \n",
       "\n",
       "                                                         geometry  \n",
       "Glc_Code                                                           \n",
       "G098661E38234N  MULTIPOLYGON (((-539810.688 4118734.500, -5397...  \n",
       "\n",
       "[1 rows x 44 columns]"
      ]
     },
     "execution_count": 23,
     "metadata": {},
     "output_type": "execute_result"
    }
   ],
   "source": [
    "df_gla.head(1)"
   ]
  },
  {
   "cell_type": "code",
   "execution_count": 25,
   "id": "a6857f3c-647c-4c5f-8b5a-82a4f8a85310",
   "metadata": {},
   "outputs": [
    {
     "data": {
      "text/plain": [
       "(24869, 30274.244343406608)"
      ]
     },
     "execution_count": 25,
     "metadata": {},
     "output_type": "execute_result"
    }
   ],
   "source": [
    "len(df_gla),df_gla['CAL_area'].sum()/1000/1000"
   ]
  },
  {
   "cell_type": "code",
   "execution_count": 7,
   "id": "a8813e97-901b-4b6f-bda0-30732b6bf58d",
   "metadata": {},
   "outputs": [],
   "source": [
    "pth_stus=pth+'\\\\dh-glacier-flag.csv'\n",
    "df_flag=pd.read_csv(pth_stus)"
   ]
  },
  {
   "cell_type": "code",
   "execution_count": 8,
   "id": "f7cec6cb-733a-44ef-89e6-feb5b32a506a",
   "metadata": {},
   "outputs": [
    {
     "data": {
      "text/html": [
       "<div>\n",
       "<style scoped>\n",
       "    .dataframe tbody tr th:only-of-type {\n",
       "        vertical-align: middle;\n",
       "    }\n",
       "\n",
       "    .dataframe tbody tr th {\n",
       "        vertical-align: top;\n",
       "    }\n",
       "\n",
       "    .dataframe thead th {\n",
       "        text-align: right;\n",
       "    }\n",
       "</style>\n",
       "<table border=\"1\" class=\"dataframe\">\n",
       "  <thead>\n",
       "    <tr style=\"text-align: right;\">\n",
       "      <th></th>\n",
       "      <th>Unnamed: 0</th>\n",
       "      <th>group_id</th>\n",
       "      <th>gla_id</th>\n",
       "      <th>glacier_ratio</th>\n",
       "      <th>acc_ratio</th>\n",
       "      <th>abla_ratio</th>\n",
       "      <th>flag</th>\n",
       "    </tr>\n",
       "  </thead>\n",
       "  <tbody>\n",
       "    <tr>\n",
       "      <th>0</th>\n",
       "      <td>0</td>\n",
       "      <td>g0018</td>\n",
       "      <td>G101096E33298N</td>\n",
       "      <td>0.713396</td>\n",
       "      <td>0.720497</td>\n",
       "      <td>0.706250</td>\n",
       "      <td>1</td>\n",
       "    </tr>\n",
       "    <tr>\n",
       "      <th>1</th>\n",
       "      <td>1</td>\n",
       "      <td>g0018</td>\n",
       "      <td>G101101E33298N</td>\n",
       "      <td>0.264881</td>\n",
       "      <td>0.160714</td>\n",
       "      <td>0.369048</td>\n",
       "      <td>0</td>\n",
       "    </tr>\n",
       "  </tbody>\n",
       "</table>\n",
       "</div>"
      ],
      "text/plain": [
       "   Unnamed: 0 group_id          gla_id  glacier_ratio  acc_ratio  abla_ratio  \\\n",
       "0           0    g0018  G101096E33298N       0.713396   0.720497    0.706250   \n",
       "1           1    g0018  G101101E33298N       0.264881   0.160714    0.369048   \n",
       "\n",
       "   flag  \n",
       "0     1  \n",
       "1     0  "
      ]
     },
     "execution_count": 8,
     "metadata": {},
     "output_type": "execute_result"
    }
   ],
   "source": [
    "df_flag.head(2)"
   ]
  },
  {
   "cell_type": "code",
   "execution_count": 9,
   "id": "01db48e6-e2e6-4f3e-a819-aab44a1ec778",
   "metadata": {},
   "outputs": [
    {
     "data": {
      "text/html": [
       "<div>\n",
       "<style scoped>\n",
       "    .dataframe tbody tr th:only-of-type {\n",
       "        vertical-align: middle;\n",
       "    }\n",
       "\n",
       "    .dataframe tbody tr th {\n",
       "        vertical-align: top;\n",
       "    }\n",
       "\n",
       "    .dataframe thead th {\n",
       "        text-align: right;\n",
       "    }\n",
       "</style>\n",
       "<table border=\"1\" class=\"dataframe\">\n",
       "  <thead>\n",
       "    <tr style=\"text-align: right;\">\n",
       "      <th></th>\n",
       "      <th>Unnamed: 0</th>\n",
       "      <th>group_id</th>\n",
       "      <th>mean</th>\n",
       "      <th>median</th>\n",
       "      <th>mean_acc</th>\n",
       "      <th>mean_abla</th>\n",
       "      <th>mean_fill</th>\n",
       "      <th>median_fill</th>\n",
       "      <th>mean_fill_acc</th>\n",
       "      <th>mean_fill_abla</th>\n",
       "    </tr>\n",
       "    <tr>\n",
       "      <th>gla_id</th>\n",
       "      <th></th>\n",
       "      <th></th>\n",
       "      <th></th>\n",
       "      <th></th>\n",
       "      <th></th>\n",
       "      <th></th>\n",
       "      <th></th>\n",
       "      <th></th>\n",
       "      <th></th>\n",
       "      <th></th>\n",
       "    </tr>\n",
       "  </thead>\n",
       "  <tbody>\n",
       "    <tr>\n",
       "      <th>G101096E33298N</th>\n",
       "      <td>0</td>\n",
       "      <td>g0018</td>\n",
       "      <td>-2.247736</td>\n",
       "      <td>-4.501035</td>\n",
       "      <td>-6.477638</td>\n",
       "      <td>2.094464</td>\n",
       "      <td>-2.532606</td>\n",
       "      <td>-4.124494</td>\n",
       "      <td>-6.559232</td>\n",
       "      <td>1.519185</td>\n",
       "    </tr>\n",
       "    <tr>\n",
       "      <th>G101108E33292N</th>\n",
       "      <td>1</td>\n",
       "      <td>g0018</td>\n",
       "      <td>1.705512</td>\n",
       "      <td>1.456494</td>\n",
       "      <td>2.391292</td>\n",
       "      <td>1.354538</td>\n",
       "      <td>1.766449</td>\n",
       "      <td>1.840311</td>\n",
       "      <td>2.213538</td>\n",
       "      <td>1.314424</td>\n",
       "    </tr>\n",
       "  </tbody>\n",
       "</table>\n",
       "</div>"
      ],
      "text/plain": [
       "                Unnamed: 0 group_id      mean    median  mean_acc  mean_abla  \\\n",
       "gla_id                                                                         \n",
       "G101096E33298N           0    g0018 -2.247736 -4.501035 -6.477638   2.094464   \n",
       "G101108E33292N           1    g0018  1.705512  1.456494  2.391292   1.354538   \n",
       "\n",
       "                mean_fill  median_fill  mean_fill_acc  mean_fill_abla  \n",
       "gla_id                                                                 \n",
       "G101096E33298N  -2.532606    -4.124494      -6.559232        1.519185  \n",
       "G101108E33292N   1.766449     1.840311       2.213538        1.314424  "
      ]
     },
     "execution_count": 9,
     "metadata": {},
     "output_type": "execute_result"
    }
   ],
   "source": [
    "dxt_effe=pd.read_csv(pth+'\\\\dh-effe-sta_xnhl.csv',index_col='gla_id')\n",
    "#dxt_effe.head()\n",
    "dxt_effe=dxt_effe[~dxt_effe.index.duplicated(keep='first')]\n",
    "dxt_effe.head(2)"
   ]
  },
  {
   "cell_type": "code",
   "execution_count": 10,
   "id": "24d350fb-752c-483a-aff3-c1b19722e603",
   "metadata": {},
   "outputs": [
    {
     "data": {
      "text/plain": [
       "14426"
      ]
     },
     "execution_count": 10,
     "metadata": {},
     "output_type": "execute_result"
    }
   ],
   "source": [
    "len(dxt_effe)"
   ]
  },
  {
   "cell_type": "code",
   "execution_count": 11,
   "id": "7f498cff-7b0c-4b72-a46d-70055204d995",
   "metadata": {},
   "outputs": [],
   "source": [
    "##获得有效冰川与西南河流冰川的交集  因为所有的冰川都在group里面计算的，但是group里的冰川不一定全部在西南河流里\n",
    "dxt_effe_final=pd.concat([dxt_effe[['group_id','mean','median','mean_fill','median_fill']],df_gla[['Glc_Area','Mean_Elev','Mean_Slp','Mean_Asp','MA_Elev','basin']]],axis=1).dropna()"
   ]
  },
  {
   "cell_type": "code",
   "execution_count": 12,
   "id": "76fd6cf0-0d87-47d0-b6fc-2f558e759899",
   "metadata": {},
   "outputs": [
    {
     "data": {
      "text/plain": [
       "(mean   -9.524963\n",
       " dtype: float64,\n",
       " 13117)"
      ]
     },
     "execution_count": 12,
     "metadata": {},
     "output_type": "execute_result"
    }
   ],
   "source": [
    "dxt_effe_final[['mean']].mean(),len(dxt_effe_final)"
   ]
  },
  {
   "cell_type": "code",
   "execution_count": 111,
   "id": "d69fb6d5-7a97-4c9f-8489-d2722fe28e11",
   "metadata": {},
   "outputs": [],
   "source": [
    "####获取最终用于统计计算的冰川"
   ]
  },
  {
   "cell_type": "code",
   "execution_count": 13,
   "id": "4a826e87-707d-4480-b5d4-28dd4e9eb0b1",
   "metadata": {},
   "outputs": [
    {
     "data": {
      "text/html": [
       "<div>\n",
       "<style scoped>\n",
       "    .dataframe tbody tr th:only-of-type {\n",
       "        vertical-align: middle;\n",
       "    }\n",
       "\n",
       "    .dataframe tbody tr th {\n",
       "        vertical-align: top;\n",
       "    }\n",
       "\n",
       "    .dataframe thead th {\n",
       "        text-align: right;\n",
       "    }\n",
       "</style>\n",
       "<table border=\"1\" class=\"dataframe\">\n",
       "  <thead>\n",
       "    <tr style=\"text-align: right;\">\n",
       "      <th></th>\n",
       "      <th>group_id</th>\n",
       "      <th>mean</th>\n",
       "      <th>median</th>\n",
       "      <th>mean_fill</th>\n",
       "      <th>median_fill</th>\n",
       "      <th>Glc_Area</th>\n",
       "      <th>Mean_Elev</th>\n",
       "      <th>Mean_Slp</th>\n",
       "      <th>Mean_Asp</th>\n",
       "      <th>MA_Elev</th>\n",
       "      <th>basin</th>\n",
       "    </tr>\n",
       "  </thead>\n",
       "  <tbody>\n",
       "    <tr>\n",
       "      <th>G101096E33298N</th>\n",
       "      <td>g0018</td>\n",
       "      <td>-2.247736</td>\n",
       "      <td>-4.501035</td>\n",
       "      <td>-2.532606</td>\n",
       "      <td>-4.124494</td>\n",
       "      <td>293031.2539</td>\n",
       "      <td>4942.3</td>\n",
       "      <td>39.4</td>\n",
       "      <td>315.8</td>\n",
       "      <td>4939.9</td>\n",
       "      <td>Yellow</td>\n",
       "    </tr>\n",
       "  </tbody>\n",
       "</table>\n",
       "</div>"
      ],
      "text/plain": [
       "               group_id      mean    median  mean_fill  median_fill  \\\n",
       "G101096E33298N    g0018 -2.247736 -4.501035  -2.532606    -4.124494   \n",
       "\n",
       "                   Glc_Area  Mean_Elev  Mean_Slp  Mean_Asp  MA_Elev   basin  \n",
       "G101096E33298N  293031.2539     4942.3      39.4     315.8   4939.9  Yellow  "
      ]
     },
     "execution_count": 13,
     "metadata": {},
     "output_type": "execute_result"
    }
   ],
   "source": [
    "dxt_effe_final.head(1)"
   ]
  },
  {
   "cell_type": "code",
   "execution_count": 14,
   "id": "81694f33-059f-45cb-94ac-820d3cc98565",
   "metadata": {},
   "outputs": [
    {
     "data": {
      "text/plain": [
       "13117"
      ]
     },
     "execution_count": 14,
     "metadata": {},
     "output_type": "execute_result"
    }
   ],
   "source": [
    "len(dxt_effe_final)"
   ]
  },
  {
   "cell_type": "code",
   "execution_count": 80,
   "id": "548603ef-f629-4cf2-8e22-cd6ea0aad7d1",
   "metadata": {},
   "outputs": [
    {
     "data": {
      "text/plain": [
       "('有效冰川比例：', 0.527443805541035, '地形图未覆盖比例：', 0.2766094334311794)"
      ]
     },
     "execution_count": 80,
     "metadata": {},
     "output_type": "execute_result"
    }
   ],
   "source": [
    "'有效冰川比例：',len(dxt_effe_final)/len(df_gla), '地形图未覆盖比例：',(len(df_gla)-len(df_flag))/len(df_gla)"
   ]
  },
  {
   "cell_type": "code",
   "execution_count": 82,
   "id": "c9524a9d-d6e2-4a73-9116-49d2e1667c8c",
   "metadata": {},
   "outputs": [
    {
     "data": {
      "text/plain": [
       "('有效冰川面积比例：', 0.7166043550675426)"
      ]
     },
     "execution_count": 82,
     "metadata": {},
     "output_type": "execute_result"
    }
   ],
   "source": [
    "'有效冰川面积比例：',(dxt_effe_final['Glc_Area'].sum())/(df_gla['Glc_Area'].sum())"
   ]
  },
  {
   "cell_type": "code",
   "execution_count": 83,
   "id": "20b7ba5c-756d-4e7e-b1ac-32b7bc6d9874",
   "metadata": {},
   "outputs": [],
   "source": [
    "dxt_effe_final.to_csv(pth+'\\\\dh-effe-stat.csv')"
   ]
  },
  {
   "cell_type": "code",
   "execution_count": null,
   "id": "7b904585-63a4-45cd-b9a3-f980c563bf06",
   "metadata": {},
   "outputs": [],
   "source": []
  },
  {
   "cell_type": "code",
   "execution_count": 5,
   "id": "9b07f781-bf97-481f-8a92-b7c843789825",
   "metadata": {},
   "outputs": [
    {
     "data": {
      "text/plain": [
       "30274.2398652608"
      ]
     },
     "execution_count": 5,
     "metadata": {},
     "output_type": "execute_result"
    }
   ],
   "source": [
    "df_gla['Glc_Area'].sum()/1000/1000"
   ]
  },
  {
   "cell_type": "code",
   "execution_count": 6,
   "id": "59472b6c-d149-4c4e-9d62-24071dccce66",
   "metadata": {},
   "outputs": [
    {
     "data": {
      "text/plain": [
       "24869"
      ]
     },
     "execution_count": 6,
     "metadata": {},
     "output_type": "execute_result"
    }
   ],
   "source": [
    "len(df_gla)"
   ]
  },
  {
   "cell_type": "code",
   "execution_count": 16,
   "id": "2c00050d-f924-4259-98e0-acbb2bb70382",
   "metadata": {},
   "outputs": [
    {
     "data": {
      "text/plain": [
       "21694.652133805303"
      ]
     },
     "execution_count": 16,
     "metadata": {},
     "output_type": "execute_result"
    }
   ],
   "source": [
    "dxt_effe_final['Glc_Area'].sum()/1000/1000"
   ]
  },
  {
   "cell_type": "code",
   "execution_count": null,
   "id": "0a158bd2-6bad-4f5d-be0b-3f9558fbe389",
   "metadata": {},
   "outputs": [],
   "source": []
  }
 ],
 "metadata": {
  "kernelspec": {
   "display_name": "py39",
   "language": "python",
   "name": "py39"
  },
  "language_info": {
   "codemirror_mode": {
    "name": "ipython",
    "version": 3
   },
   "file_extension": ".py",
   "mimetype": "text/x-python",
   "name": "python",
   "nbconvert_exporter": "python",
   "pygments_lexer": "ipython3",
   "version": "3.9.19"
  }
 },
 "nbformat": 4,
 "nbformat_minor": 5
}
