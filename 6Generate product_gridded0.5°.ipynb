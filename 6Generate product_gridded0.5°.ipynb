{
 "cells": [
  {
   "cell_type": "markdown",
   "id": "brutal-infection",
   "metadata": {},
   "source": [
    "### 基于冰川尺度统计结果给予格网产品赋值"
   ]
  },
  {
   "cell_type": "code",
   "execution_count": 1,
   "id": "promising-links",
   "metadata": {},
   "outputs": [],
   "source": [
    "import xarray as xr\n",
    "import os\n",
    "import matplotlib.pyplot as plt\n",
    "import numpy as np\n",
    "import pandas as pd\n",
    "import seaborn as sns\n",
    "import proplot as pplt\n",
    "import geopandas as gpd\n",
    "import rioxarray as rioxr"
   ]
  },
  {
   "cell_type": "code",
   "execution_count": 2,
   "id": "2989569c-6a4c-4575-9707-5521c7b5d10b",
   "metadata": {},
   "outputs": [],
   "source": [
    "pth='D:/Key_works/20231212dh_calculate/xnhl_test'"
   ]
  },
  {
   "cell_type": "code",
   "execution_count": 3,
   "id": "little-peninsula",
   "metadata": {},
   "outputs": [],
   "source": [
    "gla_pth=pth+'/shp/gla_cgi1_basin.gpkg'\n",
    "df_gla=gpd.read_file(gla_pth)"
   ]
  },
  {
   "cell_type": "code",
   "execution_count": 4,
   "id": "graphic-excess",
   "metadata": {},
   "outputs": [],
   "source": [
    "pth1=pth+'\\\\dh-effe-stat.csv'\n",
    "#pth2='F:\\\\User1\\\\Python_code\\\\20210612_glacier_dh_testcode\\\\TerraSAR\\\\dh-effe-stat-terrasar.csv'"
   ]
  },
  {
   "cell_type": "code",
   "execution_count": 5,
   "id": "promotional-chance",
   "metadata": {},
   "outputs": [],
   "source": [
    "df_effe_dxt=pd.read_csv(pth1,index_col=0)"
   ]
  },
  {
   "cell_type": "code",
   "execution_count": 6,
   "id": "22abe028-8c76-41bb-93ce-2053f8841bed",
   "metadata": {},
   "outputs": [
    {
     "data": {
      "text/html": [
       "<div>\n",
       "<style scoped>\n",
       "    .dataframe tbody tr th:only-of-type {\n",
       "        vertical-align: middle;\n",
       "    }\n",
       "\n",
       "    .dataframe tbody tr th {\n",
       "        vertical-align: top;\n",
       "    }\n",
       "\n",
       "    .dataframe thead th {\n",
       "        text-align: right;\n",
       "    }\n",
       "</style>\n",
       "<table border=\"1\" class=\"dataframe\">\n",
       "  <thead>\n",
       "    <tr style=\"text-align: right;\">\n",
       "      <th></th>\n",
       "      <th>group_id</th>\n",
       "      <th>mean</th>\n",
       "      <th>median</th>\n",
       "      <th>mean_fill</th>\n",
       "      <th>median_fill</th>\n",
       "      <th>Glc_Area</th>\n",
       "      <th>Mean_Elev</th>\n",
       "      <th>Mean_Slp</th>\n",
       "      <th>Mean_Asp</th>\n",
       "      <th>MA_Elev</th>\n",
       "      <th>basin</th>\n",
       "    </tr>\n",
       "  </thead>\n",
       "  <tbody>\n",
       "    <tr>\n",
       "      <th>G101096E33298N</th>\n",
       "      <td>g0018</td>\n",
       "      <td>-2.247736</td>\n",
       "      <td>-4.501035</td>\n",
       "      <td>-2.532606</td>\n",
       "      <td>-4.124494</td>\n",
       "      <td>2.930313e+05</td>\n",
       "      <td>4942.3</td>\n",
       "      <td>39.4</td>\n",
       "      <td>315.8</td>\n",
       "      <td>4939.9</td>\n",
       "      <td>Yellow</td>\n",
       "    </tr>\n",
       "    <tr>\n",
       "      <th>G101108E33292N</th>\n",
       "      <td>g0018</td>\n",
       "      <td>1.705512</td>\n",
       "      <td>1.456494</td>\n",
       "      <td>1.766449</td>\n",
       "      <td>1.840311</td>\n",
       "      <td>1.968628e+06</td>\n",
       "      <td>4977.4</td>\n",
       "      <td>26.6</td>\n",
       "      <td>40.8</td>\n",
       "      <td>4998.3</td>\n",
       "      <td>Yellow</td>\n",
       "    </tr>\n",
       "    <tr>\n",
       "      <th>G101093E33294N</th>\n",
       "      <td>g0018</td>\n",
       "      <td>-6.184100</td>\n",
       "      <td>-3.108037</td>\n",
       "      <td>-5.655661</td>\n",
       "      <td>-3.263412</td>\n",
       "      <td>3.890786e+05</td>\n",
       "      <td>5065.6</td>\n",
       "      <td>33.5</td>\n",
       "      <td>292.3</td>\n",
       "      <td>5061.8</td>\n",
       "      <td>Yellow</td>\n",
       "    </tr>\n",
       "    <tr>\n",
       "      <th>G101093E33290N</th>\n",
       "      <td>g0018</td>\n",
       "      <td>-12.320572</td>\n",
       "      <td>-8.514097</td>\n",
       "      <td>-11.220770</td>\n",
       "      <td>-9.178255</td>\n",
       "      <td>2.439229e+05</td>\n",
       "      <td>5122.8</td>\n",
       "      <td>37.7</td>\n",
       "      <td>293.8</td>\n",
       "      <td>5125.4</td>\n",
       "      <td>Yellow</td>\n",
       "    </tr>\n",
       "    <tr>\n",
       "      <th>G101093E33286N</th>\n",
       "      <td>g0018</td>\n",
       "      <td>-5.804585</td>\n",
       "      <td>-6.774280</td>\n",
       "      <td>-5.146242</td>\n",
       "      <td>-5.558762</td>\n",
       "      <td>5.173286e+05</td>\n",
       "      <td>5035.6</td>\n",
       "      <td>30.3</td>\n",
       "      <td>228.8</td>\n",
       "      <td>5025.2</td>\n",
       "      <td>Yellow</td>\n",
       "    </tr>\n",
       "  </tbody>\n",
       "</table>\n",
       "</div>"
      ],
      "text/plain": [
       "               group_id       mean    median  mean_fill  median_fill  \\\n",
       "G101096E33298N    g0018  -2.247736 -4.501035  -2.532606    -4.124494   \n",
       "G101108E33292N    g0018   1.705512  1.456494   1.766449     1.840311   \n",
       "G101093E33294N    g0018  -6.184100 -3.108037  -5.655661    -3.263412   \n",
       "G101093E33290N    g0018 -12.320572 -8.514097 -11.220770    -9.178255   \n",
       "G101093E33286N    g0018  -5.804585 -6.774280  -5.146242    -5.558762   \n",
       "\n",
       "                    Glc_Area  Mean_Elev  Mean_Slp  Mean_Asp  MA_Elev   basin  \n",
       "G101096E33298N  2.930313e+05     4942.3      39.4     315.8   4939.9  Yellow  \n",
       "G101108E33292N  1.968628e+06     4977.4      26.6      40.8   4998.3  Yellow  \n",
       "G101093E33294N  3.890786e+05     5065.6      33.5     292.3   5061.8  Yellow  \n",
       "G101093E33290N  2.439229e+05     5122.8      37.7     293.8   5125.4  Yellow  \n",
       "G101093E33286N  5.173286e+05     5035.6      30.3     228.8   5025.2  Yellow  "
      ]
     },
     "execution_count": 6,
     "metadata": {},
     "output_type": "execute_result"
    }
   ],
   "source": [
    "df_effe_dxt.head()"
   ]
  },
  {
   "cell_type": "code",
   "execution_count": 7,
   "id": "nearby-litigation",
   "metadata": {},
   "outputs": [
    {
     "data": {
      "text/plain": [
       "-9.524962689799008"
      ]
     },
     "execution_count": 7,
     "metadata": {},
     "output_type": "execute_result"
    }
   ],
   "source": [
    "df_effe_dxt['mean'].mean()"
   ]
  },
  {
   "cell_type": "code",
   "execution_count": 8,
   "id": "metallic-nicaragua",
   "metadata": {},
   "outputs": [],
   "source": [
    "dxt_ix=pth+'/shp/dxt_group_xn.shp'\n",
    "df_dxt=gpd.read_file(dxt_ix)"
   ]
  },
  {
   "cell_type": "markdown",
   "id": "hollow-dominican",
   "metadata": {},
   "source": [
    "##### 获取西南河流地形图group 信息  下次不运行"
   ]
  },
  {
   "cell_type": "code",
   "execution_count": 9,
   "id": "stuffed-onion",
   "metadata": {},
   "outputs": [],
   "source": [
    "####选取研究区内的dh\n",
    "group_lst=[]\n",
    "for i in df_dxt.reg_group.values:\n",
    "    if i is not None:\n",
    "        ist=i.split('+')\n",
    "        for j in ist:\n",
    "            group_lst.append(j)\n",
    "group_lst=list(set(group_lst))# 去除重复元素 保证标识的唯一性"
   ]
  },
  {
   "cell_type": "code",
   "execution_count": 10,
   "id": "excess-sweden",
   "metadata": {},
   "outputs": [
    {
     "data": {
      "text/plain": [
       "261"
      ]
     },
     "execution_count": 10,
     "metadata": {},
     "output_type": "execute_result"
    }
   ],
   "source": [
    "len(group_lst)"
   ]
  },
  {
   "cell_type": "markdown",
   "id": "fifteen-clinton",
   "metadata": {},
   "source": [
    "#### 将生成的tif文件在qgis中合并"
   ]
  },
  {
   "cell_type": "code",
   "execution_count": 246,
   "id": "august-brunei",
   "metadata": {},
   "outputs": [],
   "source": [
    "###生成tif后，在arcgis里合并输出为'dh1970_group/dh1970_group.tif' ##最好为int型 不然存储过大"
   ]
  },
  {
   "cell_type": "markdown",
   "id": "searching-binary",
   "metadata": {
    "jp-MarkdownHeadingCollapsed": true
   },
   "source": [
    "#### 生成0.1°格网  根据审稿意见，弃用"
   ]
  },
  {
   "cell_type": "code",
   "execution_count": 11,
   "id": "bdd3bfb6-a022-45c4-a304-170c7b7c8070",
   "metadata": {},
   "outputs": [],
   "source": [
    "pth_dh=pth+'/gla_level_dh_final/'+'xnhl_dh_all_effe.tif'\n",
    "pth_yr=pth+'/gla_level_dh_final/'+'xnhl_dh_all_effe_yr.tif'\n",
    "pth_err=pth+'/gla_level_dh_final/'+'xnhl_dh_all_effe_err.tif'"
   ]
  },
  {
   "cell_type": "code",
   "execution_count": 12,
   "id": "a9a13265-f079-431b-b500-4d3b1e8ba78e",
   "metadata": {},
   "outputs": [],
   "source": [
    "dh_all=xr.open_dataset(pth_dh,engine='rasterio')\n",
    "dh_all_prj0=dh_all.rio.reproject('epsg:4326')"
   ]
  },
  {
   "cell_type": "code",
   "execution_count": 66,
   "id": "bb736523-3104-4b12-bc49-bcf99f806b8a",
   "metadata": {
    "collapsed": true,
    "jupyter": {
     "outputs_hidden": true
    }
   },
   "outputs": [
    {
     "data": {
      "text/html": [
       "<div><svg style=\"position: absolute; width: 0; height: 0; overflow: hidden\">\n",
       "<defs>\n",
       "<symbol id=\"icon-database\" viewBox=\"0 0 32 32\">\n",
       "<path d=\"M16 0c-8.837 0-16 2.239-16 5v4c0 2.761 7.163 5 16 5s16-2.239 16-5v-4c0-2.761-7.163-5-16-5z\"></path>\n",
       "<path d=\"M16 17c-8.837 0-16-2.239-16-5v6c0 2.761 7.163 5 16 5s16-2.239 16-5v-6c0 2.761-7.163 5-16 5z\"></path>\n",
       "<path d=\"M16 26c-8.837 0-16-2.239-16-5v6c0 2.761 7.163 5 16 5s16-2.239 16-5v-6c0 2.761-7.163 5-16 5z\"></path>\n",
       "</symbol>\n",
       "<symbol id=\"icon-file-text2\" viewBox=\"0 0 32 32\">\n",
       "<path d=\"M28.681 7.159c-0.694-0.947-1.662-2.053-2.724-3.116s-2.169-2.030-3.116-2.724c-1.612-1.182-2.393-1.319-2.841-1.319h-15.5c-1.378 0-2.5 1.121-2.5 2.5v27c0 1.378 1.122 2.5 2.5 2.5h23c1.378 0 2.5-1.122 2.5-2.5v-19.5c0-0.448-0.137-1.23-1.319-2.841zM24.543 5.457c0.959 0.959 1.712 1.825 2.268 2.543h-4.811v-4.811c0.718 0.556 1.584 1.309 2.543 2.268zM28 29.5c0 0.271-0.229 0.5-0.5 0.5h-23c-0.271 0-0.5-0.229-0.5-0.5v-27c0-0.271 0.229-0.5 0.5-0.5 0 0 15.499-0 15.5 0v7c0 0.552 0.448 1 1 1h7v19.5z\"></path>\n",
       "<path d=\"M23 26h-14c-0.552 0-1-0.448-1-1s0.448-1 1-1h14c0.552 0 1 0.448 1 1s-0.448 1-1 1z\"></path>\n",
       "<path d=\"M23 22h-14c-0.552 0-1-0.448-1-1s0.448-1 1-1h14c0.552 0 1 0.448 1 1s-0.448 1-1 1z\"></path>\n",
       "<path d=\"M23 18h-14c-0.552 0-1-0.448-1-1s0.448-1 1-1h14c0.552 0 1 0.448 1 1s-0.448 1-1 1z\"></path>\n",
       "</symbol>\n",
       "</defs>\n",
       "</svg>\n",
       "<style>/* CSS stylesheet for displaying xarray objects in jupyterlab.\n",
       " *\n",
       " */\n",
       "\n",
       ":root {\n",
       "  --xr-font-color0: var(--jp-content-font-color0, rgba(0, 0, 0, 1));\n",
       "  --xr-font-color2: var(--jp-content-font-color2, rgba(0, 0, 0, 0.54));\n",
       "  --xr-font-color3: var(--jp-content-font-color3, rgba(0, 0, 0, 0.38));\n",
       "  --xr-border-color: var(--jp-border-color2, #e0e0e0);\n",
       "  --xr-disabled-color: var(--jp-layout-color3, #bdbdbd);\n",
       "  --xr-background-color: var(--jp-layout-color0, white);\n",
       "  --xr-background-color-row-even: var(--jp-layout-color1, white);\n",
       "  --xr-background-color-row-odd: var(--jp-layout-color2, #eeeeee);\n",
       "}\n",
       "\n",
       "html[theme=dark],\n",
       "body[data-theme=dark],\n",
       "body.vscode-dark {\n",
       "  --xr-font-color0: rgba(255, 255, 255, 1);\n",
       "  --xr-font-color2: rgba(255, 255, 255, 0.54);\n",
       "  --xr-font-color3: rgba(255, 255, 255, 0.38);\n",
       "  --xr-border-color: #1F1F1F;\n",
       "  --xr-disabled-color: #515151;\n",
       "  --xr-background-color: #111111;\n",
       "  --xr-background-color-row-even: #111111;\n",
       "  --xr-background-color-row-odd: #313131;\n",
       "}\n",
       "\n",
       ".xr-wrap {\n",
       "  display: block !important;\n",
       "  min-width: 300px;\n",
       "  max-width: 700px;\n",
       "}\n",
       "\n",
       ".xr-text-repr-fallback {\n",
       "  /* fallback to plain text repr when CSS is not injected (untrusted notebook) */\n",
       "  display: none;\n",
       "}\n",
       "\n",
       ".xr-header {\n",
       "  padding-top: 6px;\n",
       "  padding-bottom: 6px;\n",
       "  margin-bottom: 4px;\n",
       "  border-bottom: solid 1px var(--xr-border-color);\n",
       "}\n",
       "\n",
       ".xr-header > div,\n",
       ".xr-header > ul {\n",
       "  display: inline;\n",
       "  margin-top: 0;\n",
       "  margin-bottom: 0;\n",
       "}\n",
       "\n",
       ".xr-obj-type,\n",
       ".xr-array-name {\n",
       "  margin-left: 2px;\n",
       "  margin-right: 10px;\n",
       "}\n",
       "\n",
       ".xr-obj-type {\n",
       "  color: var(--xr-font-color2);\n",
       "}\n",
       "\n",
       ".xr-sections {\n",
       "  padding-left: 0 !important;\n",
       "  display: grid;\n",
       "  grid-template-columns: 150px auto auto 1fr 20px 20px;\n",
       "}\n",
       "\n",
       ".xr-section-item {\n",
       "  display: contents;\n",
       "}\n",
       "\n",
       ".xr-section-item input {\n",
       "  display: none;\n",
       "}\n",
       "\n",
       ".xr-section-item input + label {\n",
       "  color: var(--xr-disabled-color);\n",
       "}\n",
       "\n",
       ".xr-section-item input:enabled + label {\n",
       "  cursor: pointer;\n",
       "  color: var(--xr-font-color2);\n",
       "}\n",
       "\n",
       ".xr-section-item input:enabled + label:hover {\n",
       "  color: var(--xr-font-color0);\n",
       "}\n",
       "\n",
       ".xr-section-summary {\n",
       "  grid-column: 1;\n",
       "  color: var(--xr-font-color2);\n",
       "  font-weight: 500;\n",
       "}\n",
       "\n",
       ".xr-section-summary > span {\n",
       "  display: inline-block;\n",
       "  padding-left: 0.5em;\n",
       "}\n",
       "\n",
       ".xr-section-summary-in:disabled + label {\n",
       "  color: var(--xr-font-color2);\n",
       "}\n",
       "\n",
       ".xr-section-summary-in + label:before {\n",
       "  display: inline-block;\n",
       "  content: '►';\n",
       "  font-size: 11px;\n",
       "  width: 15px;\n",
       "  text-align: center;\n",
       "}\n",
       "\n",
       ".xr-section-summary-in:disabled + label:before {\n",
       "  color: var(--xr-disabled-color);\n",
       "}\n",
       "\n",
       ".xr-section-summary-in:checked + label:before {\n",
       "  content: '▼';\n",
       "}\n",
       "\n",
       ".xr-section-summary-in:checked + label > span {\n",
       "  display: none;\n",
       "}\n",
       "\n",
       ".xr-section-summary,\n",
       ".xr-section-inline-details {\n",
       "  padding-top: 4px;\n",
       "  padding-bottom: 4px;\n",
       "}\n",
       "\n",
       ".xr-section-inline-details {\n",
       "  grid-column: 2 / -1;\n",
       "}\n",
       "\n",
       ".xr-section-details {\n",
       "  display: none;\n",
       "  grid-column: 1 / -1;\n",
       "  margin-bottom: 5px;\n",
       "}\n",
       "\n",
       ".xr-section-summary-in:checked ~ .xr-section-details {\n",
       "  display: contents;\n",
       "}\n",
       "\n",
       ".xr-array-wrap {\n",
       "  grid-column: 1 / -1;\n",
       "  display: grid;\n",
       "  grid-template-columns: 20px auto;\n",
       "}\n",
       "\n",
       ".xr-array-wrap > label {\n",
       "  grid-column: 1;\n",
       "  vertical-align: top;\n",
       "}\n",
       "\n",
       ".xr-preview {\n",
       "  color: var(--xr-font-color3);\n",
       "}\n",
       "\n",
       ".xr-array-preview,\n",
       ".xr-array-data {\n",
       "  padding: 0 5px !important;\n",
       "  grid-column: 2;\n",
       "}\n",
       "\n",
       ".xr-array-data,\n",
       ".xr-array-in:checked ~ .xr-array-preview {\n",
       "  display: none;\n",
       "}\n",
       "\n",
       ".xr-array-in:checked ~ .xr-array-data,\n",
       ".xr-array-preview {\n",
       "  display: inline-block;\n",
       "}\n",
       "\n",
       ".xr-dim-list {\n",
       "  display: inline-block !important;\n",
       "  list-style: none;\n",
       "  padding: 0 !important;\n",
       "  margin: 0;\n",
       "}\n",
       "\n",
       ".xr-dim-list li {\n",
       "  display: inline-block;\n",
       "  padding: 0;\n",
       "  margin: 0;\n",
       "}\n",
       "\n",
       ".xr-dim-list:before {\n",
       "  content: '(';\n",
       "}\n",
       "\n",
       ".xr-dim-list:after {\n",
       "  content: ')';\n",
       "}\n",
       "\n",
       ".xr-dim-list li:not(:last-child):after {\n",
       "  content: ',';\n",
       "  padding-right: 5px;\n",
       "}\n",
       "\n",
       ".xr-has-index {\n",
       "  font-weight: bold;\n",
       "}\n",
       "\n",
       ".xr-var-list,\n",
       ".xr-var-item {\n",
       "  display: contents;\n",
       "}\n",
       "\n",
       ".xr-var-item > div,\n",
       ".xr-var-item label,\n",
       ".xr-var-item > .xr-var-name span {\n",
       "  background-color: var(--xr-background-color-row-even);\n",
       "  margin-bottom: 0;\n",
       "}\n",
       "\n",
       ".xr-var-item > .xr-var-name:hover span {\n",
       "  padding-right: 5px;\n",
       "}\n",
       "\n",
       ".xr-var-list > li:nth-child(odd) > div,\n",
       ".xr-var-list > li:nth-child(odd) > label,\n",
       ".xr-var-list > li:nth-child(odd) > .xr-var-name span {\n",
       "  background-color: var(--xr-background-color-row-odd);\n",
       "}\n",
       "\n",
       ".xr-var-name {\n",
       "  grid-column: 1;\n",
       "}\n",
       "\n",
       ".xr-var-dims {\n",
       "  grid-column: 2;\n",
       "}\n",
       "\n",
       ".xr-var-dtype {\n",
       "  grid-column: 3;\n",
       "  text-align: right;\n",
       "  color: var(--xr-font-color2);\n",
       "}\n",
       "\n",
       ".xr-var-preview {\n",
       "  grid-column: 4;\n",
       "}\n",
       "\n",
       ".xr-index-preview {\n",
       "  grid-column: 2 / 5;\n",
       "  color: var(--xr-font-color2);\n",
       "}\n",
       "\n",
       ".xr-var-name,\n",
       ".xr-var-dims,\n",
       ".xr-var-dtype,\n",
       ".xr-preview,\n",
       ".xr-attrs dt {\n",
       "  white-space: nowrap;\n",
       "  overflow: hidden;\n",
       "  text-overflow: ellipsis;\n",
       "  padding-right: 10px;\n",
       "}\n",
       "\n",
       ".xr-var-name:hover,\n",
       ".xr-var-dims:hover,\n",
       ".xr-var-dtype:hover,\n",
       ".xr-attrs dt:hover {\n",
       "  overflow: visible;\n",
       "  width: auto;\n",
       "  z-index: 1;\n",
       "}\n",
       "\n",
       ".xr-var-attrs,\n",
       ".xr-var-data,\n",
       ".xr-index-data {\n",
       "  display: none;\n",
       "  background-color: var(--xr-background-color) !important;\n",
       "  padding-bottom: 5px !important;\n",
       "}\n",
       "\n",
       ".xr-var-attrs-in:checked ~ .xr-var-attrs,\n",
       ".xr-var-data-in:checked ~ .xr-var-data,\n",
       ".xr-index-data-in:checked ~ .xr-index-data {\n",
       "  display: block;\n",
       "}\n",
       "\n",
       ".xr-var-data > table {\n",
       "  float: right;\n",
       "}\n",
       "\n",
       ".xr-var-name span,\n",
       ".xr-var-data,\n",
       ".xr-index-name div,\n",
       ".xr-index-data,\n",
       ".xr-attrs {\n",
       "  padding-left: 25px !important;\n",
       "}\n",
       "\n",
       ".xr-attrs,\n",
       ".xr-var-attrs,\n",
       ".xr-var-data,\n",
       ".xr-index-data {\n",
       "  grid-column: 1 / -1;\n",
       "}\n",
       "\n",
       "dl.xr-attrs {\n",
       "  padding: 0;\n",
       "  margin: 0;\n",
       "  display: grid;\n",
       "  grid-template-columns: 125px auto;\n",
       "}\n",
       "\n",
       ".xr-attrs dt,\n",
       ".xr-attrs dd {\n",
       "  padding: 0;\n",
       "  margin: 0;\n",
       "  float: left;\n",
       "  padding-right: 10px;\n",
       "  width: auto;\n",
       "}\n",
       "\n",
       ".xr-attrs dt {\n",
       "  font-weight: normal;\n",
       "  grid-column: 1;\n",
       "}\n",
       "\n",
       ".xr-attrs dt:hover span {\n",
       "  display: inline-block;\n",
       "  background: var(--xr-background-color);\n",
       "  padding-right: 10px;\n",
       "}\n",
       "\n",
       ".xr-attrs dd {\n",
       "  grid-column: 2;\n",
       "  white-space: pre-wrap;\n",
       "  word-break: break-all;\n",
       "}\n",
       "\n",
       ".xr-icon-database,\n",
       ".xr-icon-file-text2,\n",
       ".xr-no-icon {\n",
       "  display: inline-block;\n",
       "  vertical-align: middle;\n",
       "  width: 1em;\n",
       "  height: 1.5em !important;\n",
       "  stroke-width: 0;\n",
       "  stroke: currentColor;\n",
       "  fill: currentColor;\n",
       "}\n",
       "</style><pre class='xr-text-repr-fallback'>&lt;xarray.Dataset&gt; Size: 13GB\n",
       "Dimensions:      (band: 1, x: 77914, y: 42152)\n",
       "Coordinates:\n",
       "  * band         (band) int32 4B 1\n",
       "  * x            (x) float64 623kB -2.439e+06 -2.439e+06 ... -1.02e+05 -1.02e+05\n",
       "  * y            (y) float64 337kB 4.122e+06 4.122e+06 ... 2.858e+06 2.858e+06\n",
       "    spatial_ref  int32 4B ...\n",
       "Data variables:\n",
       "    band_data    (band, y, x) float32 13GB nan nan nan nan ... nan nan nan nan</pre><div class='xr-wrap' style='display:none'><div class='xr-header'><div class='xr-obj-type'>xarray.Dataset</div></div><ul class='xr-sections'><li class='xr-section-item'><input id='section-dc42ceed-abf6-4ce2-96f6-48357905052b' class='xr-section-summary-in' type='checkbox' disabled ><label for='section-dc42ceed-abf6-4ce2-96f6-48357905052b' class='xr-section-summary'  title='Expand/collapse section'>Dimensions:</label><div class='xr-section-inline-details'><ul class='xr-dim-list'><li><span class='xr-has-index'>band</span>: 1</li><li><span class='xr-has-index'>x</span>: 77914</li><li><span class='xr-has-index'>y</span>: 42152</li></ul></div><div class='xr-section-details'></div></li><li class='xr-section-item'><input id='section-12e7c70a-6c7f-4c36-aa76-9aedd2263e77' class='xr-section-summary-in' type='checkbox'  checked><label for='section-12e7c70a-6c7f-4c36-aa76-9aedd2263e77' class='xr-section-summary' >Coordinates: <span>(4)</span></label><div class='xr-section-inline-details'></div><div class='xr-section-details'><ul class='xr-var-list'><li class='xr-var-item'><div class='xr-var-name'><span class='xr-has-index'>band</span></div><div class='xr-var-dims'>(band)</div><div class='xr-var-dtype'>int32</div><div class='xr-var-preview xr-preview'>1</div><input id='attrs-641da5f1-04f7-4a07-908b-9105202e2b3c' class='xr-var-attrs-in' type='checkbox' disabled><label for='attrs-641da5f1-04f7-4a07-908b-9105202e2b3c' title='Show/Hide attributes'><svg class='icon xr-icon-file-text2'><use xlink:href='#icon-file-text2'></use></svg></label><input id='data-4fc1deb7-ff4a-4032-af08-bedba54d765d' class='xr-var-data-in' type='checkbox'><label for='data-4fc1deb7-ff4a-4032-af08-bedba54d765d' title='Show/Hide data repr'><svg class='icon xr-icon-database'><use xlink:href='#icon-database'></use></svg></label><div class='xr-var-attrs'><dl class='xr-attrs'></dl></div><div class='xr-var-data'><pre>array([1])</pre></div></li><li class='xr-var-item'><div class='xr-var-name'><span class='xr-has-index'>x</span></div><div class='xr-var-dims'>(x)</div><div class='xr-var-dtype'>float64</div><div class='xr-var-preview xr-preview'>-2.439e+06 -2.439e+06 ... -1.02e+05</div><input id='attrs-56d871ae-8f98-46f2-8294-45901123f504' class='xr-var-attrs-in' type='checkbox' disabled><label for='attrs-56d871ae-8f98-46f2-8294-45901123f504' title='Show/Hide attributes'><svg class='icon xr-icon-file-text2'><use xlink:href='#icon-file-text2'></use></svg></label><input id='data-8d968a56-0062-48b7-8694-09e15457e7d9' class='xr-var-data-in' type='checkbox'><label for='data-8d968a56-0062-48b7-8694-09e15457e7d9' title='Show/Hide data repr'><svg class='icon xr-icon-database'><use xlink:href='#icon-database'></use></svg></label><div class='xr-var-attrs'><dl class='xr-attrs'></dl></div><div class='xr-var-data'><pre>array([-2439355.350904, -2439325.350904, -2439295.350904, ...,  -102025.350904,\n",
       "        -101995.350904,  -101965.350904])</pre></div></li><li class='xr-var-item'><div class='xr-var-name'><span class='xr-has-index'>y</span></div><div class='xr-var-dims'>(y)</div><div class='xr-var-dtype'>float64</div><div class='xr-var-preview xr-preview'>4.122e+06 4.122e+06 ... 2.858e+06</div><input id='attrs-110bf9e8-e402-4311-8ca2-d9bcd77e8769' class='xr-var-attrs-in' type='checkbox' disabled><label for='attrs-110bf9e8-e402-4311-8ca2-d9bcd77e8769' title='Show/Hide attributes'><svg class='icon xr-icon-file-text2'><use xlink:href='#icon-file-text2'></use></svg></label><input id='data-ccb2a8cb-c494-4865-8930-40f447a5ed86' class='xr-var-data-in' type='checkbox'><label for='data-ccb2a8cb-c494-4865-8930-40f447a5ed86' title='Show/Hide data repr'><svg class='icon xr-icon-database'><use xlink:href='#icon-database'></use></svg></label><div class='xr-var-attrs'><dl class='xr-attrs'></dl></div><div class='xr-var-data'><pre>array([4122095.936844, 4122065.936844, 4122035.936844, ..., 2857625.936844,\n",
       "       2857595.936844, 2857565.936844])</pre></div></li><li class='xr-var-item'><div class='xr-var-name'><span>spatial_ref</span></div><div class='xr-var-dims'>()</div><div class='xr-var-dtype'>int32</div><div class='xr-var-preview xr-preview'>...</div><input id='attrs-b1f7c1c5-c863-43f9-938b-f881af57f02c' class='xr-var-attrs-in' type='checkbox' ><label for='attrs-b1f7c1c5-c863-43f9-938b-f881af57f02c' title='Show/Hide attributes'><svg class='icon xr-icon-file-text2'><use xlink:href='#icon-file-text2'></use></svg></label><input id='data-70eec178-ed01-43bc-b363-5c7073458cb8' class='xr-var-data-in' type='checkbox'><label for='data-70eec178-ed01-43bc-b363-5c7073458cb8' title='Show/Hide data repr'><svg class='icon xr-icon-database'><use xlink:href='#icon-database'></use></svg></label><div class='xr-var-attrs'><dl class='xr-attrs'><dt><span>crs_wkt :</span></dt><dd>PROJCS[&quot;Albers_Conic_Equal_Area&quot;,GEOGCS[&quot;WGS 84&quot;,DATUM[&quot;WGS_1984&quot;,SPHEROID[&quot;WGS 84&quot;,6378137,298.257223563,AUTHORITY[&quot;EPSG&quot;,&quot;7030&quot;]],AUTHORITY[&quot;EPSG&quot;,&quot;6326&quot;]],PRIMEM[&quot;Greenwich&quot;,0],UNIT[&quot;degree&quot;,0.0174532925199433,AUTHORITY[&quot;EPSG&quot;,&quot;9122&quot;]],AUTHORITY[&quot;EPSG&quot;,&quot;4326&quot;]],PROJECTION[&quot;Albers_Conic_Equal_Area&quot;],PARAMETER[&quot;latitude_of_center&quot;,0],PARAMETER[&quot;longitude_of_center&quot;,105],PARAMETER[&quot;standard_parallel_1&quot;,25],PARAMETER[&quot;standard_parallel_2&quot;,47],PARAMETER[&quot;false_easting&quot;,0],PARAMETER[&quot;false_northing&quot;,0],UNIT[&quot;metre&quot;,1,AUTHORITY[&quot;EPSG&quot;,&quot;9001&quot;]],AXIS[&quot;Easting&quot;,EAST],AXIS[&quot;Northing&quot;,NORTH]]</dd><dt><span>semi_major_axis :</span></dt><dd>6378137.0</dd><dt><span>semi_minor_axis :</span></dt><dd>6356752.314245179</dd><dt><span>inverse_flattening :</span></dt><dd>298.257223563</dd><dt><span>reference_ellipsoid_name :</span></dt><dd>WGS 84</dd><dt><span>longitude_of_prime_meridian :</span></dt><dd>0.0</dd><dt><span>prime_meridian_name :</span></dt><dd>Greenwich</dd><dt><span>geographic_crs_name :</span></dt><dd>WGS 84</dd><dt><span>horizontal_datum_name :</span></dt><dd>World Geodetic System 1984</dd><dt><span>projected_crs_name :</span></dt><dd>Albers_Conic_Equal_Area</dd><dt><span>grid_mapping_name :</span></dt><dd>albers_conical_equal_area</dd><dt><span>standard_parallel :</span></dt><dd>(25.0, 47.0)</dd><dt><span>latitude_of_projection_origin :</span></dt><dd>0.0</dd><dt><span>longitude_of_central_meridian :</span></dt><dd>105.0</dd><dt><span>false_easting :</span></dt><dd>0.0</dd><dt><span>false_northing :</span></dt><dd>0.0</dd><dt><span>spatial_ref :</span></dt><dd>PROJCS[&quot;Albers_Conic_Equal_Area&quot;,GEOGCS[&quot;WGS 84&quot;,DATUM[&quot;WGS_1984&quot;,SPHEROID[&quot;WGS 84&quot;,6378137,298.257223563,AUTHORITY[&quot;EPSG&quot;,&quot;7030&quot;]],AUTHORITY[&quot;EPSG&quot;,&quot;6326&quot;]],PRIMEM[&quot;Greenwich&quot;,0],UNIT[&quot;degree&quot;,0.0174532925199433,AUTHORITY[&quot;EPSG&quot;,&quot;9122&quot;]],AUTHORITY[&quot;EPSG&quot;,&quot;4326&quot;]],PROJECTION[&quot;Albers_Conic_Equal_Area&quot;],PARAMETER[&quot;latitude_of_center&quot;,0],PARAMETER[&quot;longitude_of_center&quot;,105],PARAMETER[&quot;standard_parallel_1&quot;,25],PARAMETER[&quot;standard_parallel_2&quot;,47],PARAMETER[&quot;false_easting&quot;,0],PARAMETER[&quot;false_northing&quot;,0],UNIT[&quot;metre&quot;,1,AUTHORITY[&quot;EPSG&quot;,&quot;9001&quot;]],AXIS[&quot;Easting&quot;,EAST],AXIS[&quot;Northing&quot;,NORTH]]</dd><dt><span>GeoTransform :</span></dt><dd>-2439370.35090433 30.0 0.0 4122110.936844331 0.0 -30.0</dd></dl></div><div class='xr-var-data'><pre>[1 values with dtype=int32]</pre></div></li></ul></div></li><li class='xr-section-item'><input id='section-cf11bd2d-a256-4ff6-8fe4-4cf3787a56f0' class='xr-section-summary-in' type='checkbox'  checked><label for='section-cf11bd2d-a256-4ff6-8fe4-4cf3787a56f0' class='xr-section-summary' >Data variables: <span>(1)</span></label><div class='xr-section-inline-details'></div><div class='xr-section-details'><ul class='xr-var-list'><li class='xr-var-item'><div class='xr-var-name'><span>band_data</span></div><div class='xr-var-dims'>(band, y, x)</div><div class='xr-var-dtype'>float32</div><div class='xr-var-preview xr-preview'>nan nan nan nan ... nan nan nan nan</div><input id='attrs-3fe9d7d0-d4a5-40ee-878a-0da377ea2926' class='xr-var-attrs-in' type='checkbox' ><label for='attrs-3fe9d7d0-d4a5-40ee-878a-0da377ea2926' title='Show/Hide attributes'><svg class='icon xr-icon-file-text2'><use xlink:href='#icon-file-text2'></use></svg></label><input id='data-24928e8b-d284-4912-aa56-47a685ab6146' class='xr-var-data-in' type='checkbox'><label for='data-24928e8b-d284-4912-aa56-47a685ab6146' title='Show/Hide data repr'><svg class='icon xr-icon-database'><use xlink:href='#icon-database'></use></svg></label><div class='xr-var-attrs'><dl class='xr-attrs'><dt><span>AREA_OR_POINT :</span></dt><dd>Area</dd><dt><span>RepresentationType :</span></dt><dd>ATHEMATIC</dd><dt><span>STATISTICS_COVARIANCES :</span></dt><dd>468.6640099848793</dd><dt><span>STATISTICS_MAXIMUM :</span></dt><dd>198.37173461914</dd><dt><span>STATISTICS_MEAN :</span></dt><dd>-7.4333146896726</dd><dt><span>STATISTICS_MINIMUM :</span></dt><dd>-199.9942779541</dd><dt><span>STATISTICS_SKIPFACTORX :</span></dt><dd>1</dd><dt><span>STATISTICS_SKIPFACTORY :</span></dt><dd>1</dd><dt><span>STATISTICS_STDDEV :</span></dt><dd>21.648649149194</dd></dl></div><div class='xr-var-data'><pre>array([[[nan, nan, ..., nan, nan],\n",
       "        [nan, nan, ..., nan, nan],\n",
       "        ...,\n",
       "        [nan, nan, ..., nan, nan],\n",
       "        [nan, nan, ..., nan, nan]]], dtype=float32)</pre></div></li></ul></div></li><li class='xr-section-item'><input id='section-c7cdb132-68d2-497d-8736-a62c271416aa' class='xr-section-summary-in' type='checkbox'  ><label for='section-c7cdb132-68d2-497d-8736-a62c271416aa' class='xr-section-summary' >Indexes: <span>(3)</span></label><div class='xr-section-inline-details'></div><div class='xr-section-details'><ul class='xr-var-list'><li class='xr-var-item'><div class='xr-index-name'><div>band</div></div><div class='xr-index-preview'>PandasIndex</div><div></div><input id='index-5794d794-8081-45ba-882b-1208eecb5805' class='xr-index-data-in' type='checkbox'/><label for='index-5794d794-8081-45ba-882b-1208eecb5805' title='Show/Hide index repr'><svg class='icon xr-icon-database'><use xlink:href='#icon-database'></use></svg></label><div class='xr-index-data'><pre>PandasIndex(Index([1], dtype=&#x27;int32&#x27;, name=&#x27;band&#x27;))</pre></div></li><li class='xr-var-item'><div class='xr-index-name'><div>x</div></div><div class='xr-index-preview'>PandasIndex</div><div></div><input id='index-0863d654-59c3-44b3-a4f6-3999e63ec96a' class='xr-index-data-in' type='checkbox'/><label for='index-0863d654-59c3-44b3-a4f6-3999e63ec96a' title='Show/Hide index repr'><svg class='icon xr-icon-database'><use xlink:href='#icon-database'></use></svg></label><div class='xr-index-data'><pre>PandasIndex(Index([  -2439355.35090433,   -2439325.35090433,   -2439295.35090433,\n",
       "         -2439265.35090433,   -2439235.35090433,   -2439205.35090433,\n",
       "         -2439175.35090433,   -2439145.35090433,   -2439115.35090433,\n",
       "         -2439085.35090433,\n",
       "       ...\n",
       "       -102235.35090433015, -102205.35090433015, -102175.35090433015,\n",
       "       -102145.35090433015, -102115.35090433015, -102085.35090433015,\n",
       "       -102055.35090433015, -102025.35090433015, -101995.35090433015,\n",
       "       -101965.35090433015],\n",
       "      dtype=&#x27;float64&#x27;, name=&#x27;x&#x27;, length=77914))</pre></div></li><li class='xr-var-item'><div class='xr-index-name'><div>y</div></div><div class='xr-index-preview'>PandasIndex</div><div></div><input id='index-b5235d04-2b8d-4c46-8796-eb3b7f174ac9' class='xr-index-data-in' type='checkbox'/><label for='index-b5235d04-2b8d-4c46-8796-eb3b7f174ac9' title='Show/Hide index repr'><svg class='icon xr-icon-database'><use xlink:href='#icon-database'></use></svg></label><div class='xr-index-data'><pre>PandasIndex(Index([4122095.936844331, 4122065.936844331, 4122035.936844331,\n",
       "       4122005.936844331, 4121975.936844331, 4121945.936844331,\n",
       "       4121915.936844331, 4121885.936844331, 4121855.936844331,\n",
       "       4121825.936844331,\n",
       "       ...\n",
       "       2857835.936844331, 2857805.936844331, 2857775.936844331,\n",
       "       2857745.936844331, 2857715.936844331, 2857685.936844331,\n",
       "       2857655.936844331, 2857625.936844331, 2857595.936844331,\n",
       "       2857565.936844331],\n",
       "      dtype=&#x27;float64&#x27;, name=&#x27;y&#x27;, length=42152))</pre></div></li></ul></div></li><li class='xr-section-item'><input id='section-908fa3ff-40af-4e43-909b-a305a974e7c6' class='xr-section-summary-in' type='checkbox' disabled ><label for='section-908fa3ff-40af-4e43-909b-a305a974e7c6' class='xr-section-summary'  title='Expand/collapse section'>Attributes: <span>(0)</span></label><div class='xr-section-inline-details'></div><div class='xr-section-details'><dl class='xr-attrs'></dl></div></li></ul></div></div>"
      ],
      "text/plain": [
       "<xarray.Dataset> Size: 13GB\n",
       "Dimensions:      (band: 1, x: 77914, y: 42152)\n",
       "Coordinates:\n",
       "  * band         (band) int32 4B 1\n",
       "  * x            (x) float64 623kB -2.439e+06 -2.439e+06 ... -1.02e+05 -1.02e+05\n",
       "  * y            (y) float64 337kB 4.122e+06 4.122e+06 ... 2.858e+06 2.858e+06\n",
       "    spatial_ref  int32 4B ...\n",
       "Data variables:\n",
       "    band_data    (band, y, x) float32 13GB nan nan nan nan ... nan nan nan nan"
      ]
     },
     "execution_count": 66,
     "metadata": {},
     "output_type": "execute_result"
    }
   ],
   "source": [
    "dh_all"
   ]
  },
  {
   "cell_type": "code",
   "execution_count": 13,
   "id": "funded-oregon",
   "metadata": {},
   "outputs": [],
   "source": [
    "#dh_all_prj1=dh_all_prj0.where((dh_all_prj0>-200)&(dh_all_prj0<50))"
   ]
  },
  {
   "cell_type": "code",
   "execution_count": 14,
   "id": "4a56e807-424d-4162-9188-b5322701138e",
   "metadata": {},
   "outputs": [],
   "source": [
    "#dh_all_prj0.max()"
   ]
  },
  {
   "cell_type": "code",
   "execution_count": 13,
   "id": "corrected-myrtle",
   "metadata": {},
   "outputs": [],
   "source": [
    "dh_year=xr.open_dataset(pth_yr,engine='rasterio')\n",
    "dh_year_prj=dh_year.rio.reproject('epsg:4326')\n",
    "#dh_year_prj=dh_year_prj.where(dh_year_prj!=dh_year_prj.attrs['_FillValue'])"
   ]
  },
  {
   "cell_type": "code",
   "execution_count": 14,
   "id": "18d67432-5505-4962-9311-83ff3dfc6330",
   "metadata": {},
   "outputs": [],
   "source": [
    "dh_year_prj=dh_year_prj.where(dh_year_prj!=1)\n",
    "dh_year_prj=dh_year_prj['band_data']"
   ]
  },
  {
   "cell_type": "code",
   "execution_count": 15,
   "id": "macro-breach",
   "metadata": {},
   "outputs": [],
   "source": [
    "dh_err=xr.open_dataset(pth_err,engine='rasterio')\n",
    "dh_err_prj=dh_err.rio.reproject('epsg:4326')"
   ]
  },
  {
   "cell_type": "code",
   "execution_count": 16,
   "id": "ee6179e7-f304-462e-bf4a-860b8b767de6",
   "metadata": {},
   "outputs": [],
   "source": [
    "dh_err_prj=dh_err_prj['band_data']"
   ]
  },
  {
   "cell_type": "code",
   "execution_count": 19,
   "id": "wrong-management",
   "metadata": {},
   "outputs": [],
   "source": [
    "#dh_err_prj"
   ]
  },
  {
   "cell_type": "code",
   "execution_count": 20,
   "id": "tender-garage",
   "metadata": {},
   "outputs": [],
   "source": [
    "#error=((ng_std/ng_count**0.5)**2+ng_mean**2)**0.5  ## Wu et.al TC 2018 "
   ]
  },
  {
   "cell_type": "code",
   "execution_count": 17,
   "id": "suited-forth",
   "metadata": {},
   "outputs": [],
   "source": [
    "grid_pth=pth+'/shp/grid.shp'\n",
    "df_grid=gpd.read_file(grid_pth)"
   ]
  },
  {
   "cell_type": "code",
   "execution_count": 18,
   "id": "scientific-calibration",
   "metadata": {},
   "outputs": [],
   "source": [
    "dh_all_prj=(dh_all_prj0*1)['band_data']"
   ]
  },
  {
   "cell_type": "code",
   "execution_count": 20,
   "id": "rising-event",
   "metadata": {
    "scrolled": true
   },
   "outputs": [],
   "source": [
    "from xdem.spatialstats import nmad\n",
    "res=0.1 ##分辨率\n",
    "mean_all=[];err_all=[];fg_all=[];yr_all=[];dh_err=[]\n",
    "for peri in df_grid['PRECTEGE'].values:\n",
    "    if peri!=0:##格网中有冰川\n",
    "        ddi=df_grid[df_grid['PRECTEGE']==peri]\n",
    "        clat=ddi.lat.values[0]\n",
    "        clon=ddi.lon.values[0]\n",
    "        ###裁剪格网###################################\n",
    "        dh_ddi=dh_all_prj.sel(y=slice(clat+res/2,clat-res/2),x=slice(clon-res/2,clon+res/2))\n",
    "        dh_ei=dh_err_prj.sel(y=slice(clat+res/2,clat-res/2),x=slice(clon-res/2,clon+res/2))\n",
    "        dh_yi=dh_year_prj.sel(y=slice(clat+res/2,clat-res/2),x=slice(clon-res/2,clon+res/2))\n",
    "        ###统计数据 计算降尺度误差\n",
    "        dh_ddi.name='tt'\n",
    "        tst=(dh_ddi.to_dataframe()['tt']).dropna()\n",
    "        count=tst.count()\n",
    "        if count==0: ##格网中有冰川  但是没有dh\n",
    "            mean_st=np.nan\n",
    "            err=np.nan\n",
    "            yr=np.nan\n",
    "            dherr=np.nan\n",
    "            gfg=-1\n",
    "        else:\n",
    "            mean_st=tst.mean()\n",
    "            std_st=nmad(tst)\n",
    "            err=(std_st/count**0.5)  ## Wu et.al TC 2018 \n",
    "            gfg=1\n",
    "            ############################\n",
    "            dherr=dh_ei.median().values\n",
    "            try:\n",
    "                yr=int(dh_yi.where(dh_yi>1).mean().values)\n",
    "            except:\n",
    "                yr=1974\n",
    "        #break\n",
    "    else: ###格网中无冰川\n",
    "        mean_st=np.nan\n",
    "        err=np.nan\n",
    "        yr=np.nan\n",
    "        dherr=np.nan\n",
    "        gfg=0\n",
    "    mean_all.append(mean_st)\n",
    "    err_all.append(err)\n",
    "    fg_all.append(gfg)\n",
    "    yr_all.append(yr)\n",
    "    dh_err.append(dherr)"
   ]
  },
  {
   "cell_type": "code",
   "execution_count": 21,
   "id": "mechanical-smooth",
   "metadata": {},
   "outputs": [
    {
     "data": {
      "text/plain": [
       "(-9.409756512576276, 0.2900866095670218, 3.386099934577942)"
      ]
     },
     "execution_count": 21,
     "metadata": {},
     "output_type": "execute_result"
    }
   ],
   "source": [
    "vvv=np.array(mean_all)\n",
    "np.nanmean(vvv),np.nanmean(err_all),np.nanmedian(dh_err)"
   ]
  },
  {
   "cell_type": "code",
   "execution_count": null,
   "id": "2688236f-e1cc-4944-adb0-c73b6b6c811c",
   "metadata": {},
   "outputs": [],
   "source": []
  },
  {
   "cell_type": "code",
   "execution_count": 22,
   "id": "comparable-prince",
   "metadata": {},
   "outputs": [],
   "source": [
    "df_grid['dh']=np.array(mean_all)\n",
    "df_grid['gla_flag']=fg_all\n",
    "df_grid['dxt_year']=yr_all\n",
    "df_grid['res_error']=np.array(err_all)/(2000-np.array(yr_all))\n",
    "df_grid['dh_error']=np.array(dh_err).astype('float')"
   ]
  },
  {
   "cell_type": "code",
   "execution_count": 23,
   "id": "coupled-means",
   "metadata": {},
   "outputs": [],
   "source": [
    "grid_new=df_grid.drop(['GID','GLA_AREA','AREA','geometry'],axis=1)\n",
    "grid_new.columns=['gla_ratio','y','x','dh','gla_flag','dxt_year','res_error','dh_error']\n",
    "ds_grid=grid_new.set_index(['y','x']).to_xarray()"
   ]
  },
  {
   "cell_type": "code",
   "execution_count": 24,
   "id": "bb426b67-1e5a-4fae-acbb-181ba6ed4172",
   "metadata": {},
   "outputs": [],
   "source": [
    "ds_grid['mb']=ds_grid['dh']/(2000-ds_grid['dxt_year'])*0.85"
   ]
  },
  {
   "cell_type": "code",
   "execution_count": 25,
   "id": "0d06a8f0-d401-42d3-b5d3-7c7a17f8f956",
   "metadata": {},
   "outputs": [],
   "source": [
    "## Atanu Bhattacharya el,al nature communication 2021\n",
    "t=2000-ds_grid['dxt_year']\n",
    "pi=0.85;pw=1;dp=0.06\n",
    "mb_err=(((ds_grid['dh']/t)*(dp/pw))**2+((ds_grid['dh_error']/t)*(pi/pw))**2)**0.5\n",
    "ds_grid['mb_error']=(mb_err**2+ds_grid['res_error']**2)**0.5"
   ]
  },
  {
   "cell_type": "code",
   "execution_count": 29,
   "id": "6d97dcd9-c195-413b-82ae-cae327a9712b",
   "metadata": {},
   "outputs": [],
   "source": [
    "#ds_grid['mb_error'].values[ds_grid['mb_error'].values>1]=0.26"
   ]
  },
  {
   "cell_type": "code",
   "execution_count": 26,
   "id": "5f0b5f78-28ea-43ca-b8de-d72ebe8bb232",
   "metadata": {},
   "outputs": [
    {
     "data": {
      "text/plain": [
       "array(-0.2639404)"
      ]
     },
     "execution_count": 26,
     "metadata": {},
     "output_type": "execute_result"
    }
   ],
   "source": [
    "(ds_grid['dh']/t).median().values"
   ]
  },
  {
   "cell_type": "code",
   "execution_count": 27,
   "id": "7005283c-1d96-4254-b1e9-1e737cd34d88",
   "metadata": {},
   "outputs": [
    {
     "data": {
      "text/plain": [
       "(array(-0.30848374), array(0.10922162), array(3.38609993))"
      ]
     },
     "execution_count": 27,
     "metadata": {},
     "output_type": "execute_result"
    }
   ],
   "source": [
    "ds_grid['mb'].mean().values,ds_grid['mb_error'].median().values,ds_grid['dh_error'].median().values"
   ]
  },
  {
   "cell_type": "code",
   "execution_count": 32,
   "id": "aaef8602-4021-4cb2-9954-8c534c2a32c9",
   "metadata": {},
   "outputs": [
    {
     "data": {
      "text/plain": [
       "<matplotlib.collections.QuadMesh at 0x23f01c7cb80>"
      ]
     },
     "execution_count": 32,
     "metadata": {},
     "output_type": "execute_result"
    },
    {
     "data": {
      "image/png": "[encoded data removed]",
      "text/plain": [
       "<Figure size 400x400 with 2 Axes>"
      ]
     },
     "metadata": {
      "image/png": {
       "height": 400,
       "width": 400
      }
     },
     "output_type": "display_data"
    }
   ],
   "source": [
    "ds_grid['mb_error'].plot(vmax=0.3,vmin=0)"
   ]
  },
  {
   "cell_type": "code",
   "execution_count": 28,
   "id": "traditional-capture",
   "metadata": {},
   "outputs": [],
   "source": [
    "ds_grid['gla_flag'].attrs={'value_mean':'0->no glacier, 1->glacier&dh, -1->no dh'}\n",
    "\n",
    "ds_grid['gla_ratio'].attrs={'long_name':'Proportion of glacier area to grid area',\n",
    "                     'units':'%'}\n",
    "ds_grid['dh'].attrs={'long_name':'Elevation difference from srtm-dem and topo-dem',\n",
    "                     'units':'m'}\n",
    "ds_grid['res_error'].attrs={'long_name':'errors in resampling',\n",
    "                     'units':'m'}\n",
    "ds_grid['dxt_year'].attrs={'long_name':'Year of aerial photograph'}\n",
    "ds_grid['dh_error'].attrs={'long_name':'Elevation difference errors','units':'m'}\n",
    "ds_grid['mb_error'].attrs={'long_name':'Mass balance errors','units':'m'}\n",
    "ds_grid['mb'].attrs={'long_name':'Mass balance','units':'m'}"
   ]
  },
  {
   "cell_type": "code",
   "execution_count": 29,
   "id": "a8a604c4-4eaa-4f14-be85-f763d6f14205",
   "metadata": {},
   "outputs": [
    {
     "data": {
      "text/plain": [
       "(<xarray.DataArray ()> Size: 8B\n",
       " array(-0.30848374),\n",
       " <xarray.DataArray 'dh' ()> Size: 8B\n",
       " array(-9.40975651))"
      ]
     },
     "execution_count": 29,
     "metadata": {},
     "output_type": "execute_result"
    }
   ],
   "source": [
    "(ds_grid['dh']/(2000-ds_grid['dxt_year'])*0.85).mean(),(ds_grid['dh']).mean() ##平均年份算下来应该是27年"
   ]
  },
  {
   "cell_type": "code",
   "execution_count": 30,
   "id": "logical-enzyme",
   "metadata": {},
   "outputs": [],
   "source": [
    "ds_grid=ds_grid.sortby('y',ascending=False)\n",
    "#ds_grid.attrs['transform']=(0.1, 0.0, 75, 0.0, -0.1, 40)\n",
    "#####################################\n",
    "ds_grid.attrs={'crs':'+proj=longlat +datum=WGS84 +no_defs',\n",
    "               'transform':(0.1, 0.0, 75,0.0, -0.1, 40),\n",
    "               'res': (0.1,0.1),\n",
    "               'nodatavals': 'nan','coords_format':'Grid center',\n",
    "               'created date':'2024-02','institute':'Yunnan University',\n",
    "              'authors':'Zhu Yu; Liu Shiyin*','email':'shiyin.liu@ynu.edu.cn; yuzhu@mail.ynu.edu.cn'}\n"
   ]
  },
  {
   "cell_type": "code",
   "execution_count": 36,
   "id": "f5547d2c-b790-4e55-ba69-48dc255d987e",
   "metadata": {},
   "outputs": [
    {
     "data": {
      "text/plain": [
       "'D:/Key_works/20231212dh_calculate/xnhl_test'"
      ]
     },
     "execution_count": 36,
     "metadata": {},
     "output_type": "execute_result"
    }
   ],
   "source": [
    "pth"
   ]
  },
  {
   "cell_type": "code",
   "execution_count": 32,
   "id": "35ad5a4e-caee-4634-8cf1-0582f9c2a7d3",
   "metadata": {},
   "outputs": [],
   "source": [
    "ds_grid1=ds_grid.rio.write_crs('epsg:4326')\n",
    "ds_grid0=ds_grid1.rio.set_spatial_dims(x_dim='x',y_dim='y')\n",
    "ds_grid0.to_netcdf(pth+'/dh_swr_0.1deg_1970s-2000_v3.nc')"
   ]
  },
  {
   "cell_type": "code",
   "execution_count": 36,
   "id": "facial-third",
   "metadata": {},
   "outputs": [],
   "source": [
    "ds_grid01=ds_grid0.where(ds_grid0['dh']<0)\n",
    "ds_grid01=ds_grid01.rio.write_crs('epsg:4326')\n",
    "ds_grid01.to_netcdf(pth+'/dh_swr_0.1deg_1970s-2000_v3_le0.nc')"
   ]
  },
  {
   "cell_type": "code",
   "execution_count": 37,
   "id": "61e4f8e6-7e98-4bf9-b9a8-d86a0b7d62f4",
   "metadata": {},
   "outputs": [
    {
     "data": {
      "text/plain": [
       "<matplotlib.collections.QuadMesh at 0x26e013791f0>"
      ]
     },
     "execution_count": 37,
     "metadata": {},
     "output_type": "execute_result"
    },
    {
     "data": {
      "image/png": "[encoded data removed]",
      "text/plain": [
       "<Figure size 400x400 with 2 Axes>"
      ]
     },
     "metadata": {
      "image/png": {
       "height": 400,
       "width": 400
      }
     },
     "output_type": "display_data"
    }
   ],
   "source": [
    "ds_grid0['mb'].plot(cmap='gist_heat',extend='both',vmin=-0.8,vmax=0)"
   ]
  },
  {
   "cell_type": "code",
   "execution_count": null,
   "id": "d5d46f86-8e9c-4111-bb24-215b6bc46a20",
   "metadata": {},
   "outputs": [],
   "source": [
    "from osgeo import osr\n",
    "pj=osr.SpatialReference()\n",
    "pj.SetFromUserInput(wgs84)\n",
    "strWkt=pj.ExportToProj4()"
   ]
  },
  {
   "cell_type": "code",
   "execution_count": 165,
   "id": "4ad6ee0b-9faa-47fc-9d08-b57f821a9c0f",
   "metadata": {},
   "outputs": [
    {
     "data": {
      "text/plain": [
       "'+proj=longlat +datum=WGS84 +no_defs'"
      ]
     },
     "execution_count": 165,
     "metadata": {},
     "output_type": "execute_result"
    }
   ],
   "source": [
    "strWkt"
   ]
  },
  {
   "cell_type": "code",
   "execution_count": null,
   "id": "fdaf2b1f-04fd-4858-b675-6e1b976e03c6",
   "metadata": {},
   "outputs": [],
   "source": []
  },
  {
   "cell_type": "markdown",
   "id": "historical-electron",
   "metadata": {},
   "source": [
    "#### 生成0.5°格网"
   ]
  },
  {
   "cell_type": "code",
   "execution_count": 39,
   "id": "outside-folder",
   "metadata": {},
   "outputs": [],
   "source": [
    "#grid_pth='Shp_new/grid0_5.shp'\n",
    "grid_pth=pth+'/shp/grid0_5.shp'\n",
    "df_grid=gpd.read_file(grid_pth)"
   ]
  },
  {
   "cell_type": "code",
   "execution_count": 51,
   "id": "varied-palace",
   "metadata": {},
   "outputs": [],
   "source": [
    "res=0.5 ##分辨率\n",
    "mean_all=[];err_all=[];fg_all=[];yr_all=[];dh_err=[]\n",
    "for peri in df_grid['gla_ratio'].values:\n",
    "    if peri!=0:##格网中有冰川\n",
    "        ddi=df_grid[df_grid['gla_ratio']==peri]\n",
    "        clat=ddi.lat.values[0]\n",
    "        clon=ddi.lon.values[0]\n",
    "        ###裁剪格网###################################\n",
    "        dh_ddi=dh_all_prj.sel(y=slice(clat+res/2,clat-res/2),x=slice(clon-res/2,clon+res/2))\n",
    "        dh_ei=dh_err_prj.sel(y=slice(clat+res/2,clat-res/2),x=slice(clon-res/2,clon+res/2))\n",
    "        dh_yi=dh_year_prj.sel(y=slice(clat+res/2,clat-res/2),x=slice(clon-res/2,clon+res/2))\n",
    "        ###统计数据 计算降尺度误差\n",
    "        dh_ddi.name='tt'\n",
    "        tst=(dh_ddi.to_dataframe()['tt']).dropna()\n",
    "        count=tst.count()\n",
    "        if count==0: ##格网中有冰川  但是没有dh\n",
    "            mean_st=np.nan\n",
    "            err=np.nan\n",
    "            yr=np.nan\n",
    "            dherr=np.nan\n",
    "            gfg=-1\n",
    "        else:\n",
    "            mean_st=tst.mean()   ##0.5\n",
    "            std_st=nmad(tst)\n",
    "            err=(std_st/count**0.5)  ## Wu et.al TC 2018 \n",
    "            gfg=1\n",
    "            ############################\n",
    "            dherr=dh_ei.mean().values\n",
    "            try:\n",
    "                yr=int(dh_yi.where(dh_yi>1).mean().values)\n",
    "            except:\n",
    "                yr=1974\n",
    "        #break\n",
    "    else: ###格网中无冰川\n",
    "        mean_st=np.nan\n",
    "        err=np.nan\n",
    "        yr=np.nan\n",
    "        dherr=np.nan\n",
    "        gfg=0\n",
    "    mean_all.append(mean_st)\n",
    "    err_all.append(err)\n",
    "    fg_all.append(gfg)\n",
    "    yr_all.append(yr)\n",
    "    dh_err.append(dherr)"
   ]
  },
  {
   "cell_type": "code",
   "execution_count": 52,
   "id": "972c58fe-2012-4233-bbc3-84fbd8c6b780",
   "metadata": {},
   "outputs": [
    {
     "data": {
      "text/plain": [
       "(-9.23290626692578, 0.10499256450557659, 3.5515574202304934)"
      ]
     },
     "execution_count": 52,
     "metadata": {},
     "output_type": "execute_result"
    }
   ],
   "source": [
    "vvv=np.array(mean_all)\n",
    "np.nanmean(vvv),np.nanmedian(err_all),np.nanmean(dh_err)"
   ]
  },
  {
   "cell_type": "code",
   "execution_count": 53,
   "id": "impossible-street",
   "metadata": {},
   "outputs": [],
   "source": [
    "df_grid['dh']=np.array(mean_all)\n",
    "df_grid['res_error']=err_all\n",
    "df_grid['gla_flag']=fg_all\n",
    "df_grid['year']=yr_all\n",
    "df_grid['dh_error']=np.array(dh_err).astype(float)"
   ]
  },
  {
   "cell_type": "code",
   "execution_count": 54,
   "id": "serial-original",
   "metadata": {},
   "outputs": [],
   "source": [
    "grid_new=df_grid.drop(['gla_area','grid_area','geometry'],axis=1)\n",
    "grid_new.columns=['gla_ratio','y','x','dh','res_error','gla_flag','dxt_year','dh_error']\n",
    "ds_grid=grid_new.set_index(['y','x']).to_xarray()"
   ]
  },
  {
   "cell_type": "code",
   "execution_count": 55,
   "id": "065af07f-021d-4198-8f58-e877606d5866",
   "metadata": {},
   "outputs": [],
   "source": [
    "ds_grid['mb']=ds_grid['dh']/(2000-ds_grid['dxt_year'])*0.85"
   ]
  },
  {
   "cell_type": "code",
   "execution_count": 56,
   "id": "1f24f096-fbd4-4492-b949-c53f8cc6fa76",
   "metadata": {},
   "outputs": [],
   "source": [
    "## Atanu Bhattacharya el,al nature communication 2021\n",
    "t=2000-ds_grid['dxt_year']\n",
    "pi=0.85;pw=1;dp=0.06\n",
    "mb_err=(((ds_grid['dh']/t)*(dp/pw))**2+((ds_grid['dh_error']/t)*(pi/pw))**2)**0.5\n",
    "ds_grid['mb_error']=(mb_err**2+(ds_grid['res_error']-0.1)**2)**0.5\n",
    "#ds_grid['mb_error'].values[ds_grid['mb_error'].values>1]=0.3"
   ]
  },
  {
   "cell_type": "code",
   "execution_count": 57,
   "id": "b553fde0-43d4-4290-97bd-dfc36e475275",
   "metadata": {},
   "outputs": [
    {
     "data": {
      "text/plain": [
       "(array(-0.29077758), array(0.13221596))"
      ]
     },
     "execution_count": 57,
     "metadata": {},
     "output_type": "execute_result"
    }
   ],
   "source": [
    "ds_grid['mb'].mean().values,ds_grid['mb_error'].median().values"
   ]
  },
  {
   "cell_type": "code",
   "execution_count": 58,
   "id": "343ef648-bd57-4d3e-900c-3e423e6cbac2",
   "metadata": {},
   "outputs": [
    {
     "data": {
      "text/plain": [
       "<matplotlib.collections.QuadMesh at 0x26e00f31f10>"
      ]
     },
     "execution_count": 58,
     "metadata": {},
     "output_type": "execute_result"
    },
    {
     "data": {
      "image/png": "[encoded data removed]",
      "text/plain": [
       "<Figure size 400x400 with 2 Axes>"
      ]
     },
     "metadata": {
      "image/png": {
       "height": 400,
       "width": 400
      }
     },
     "output_type": "display_data"
    }
   ],
   "source": [
    "ds_grid['mb_error'].plot(vmax=0.3)"
   ]
  },
  {
   "cell_type": "code",
   "execution_count": 59,
   "id": "19186131-328f-4855-93dc-5ff1815d0d38",
   "metadata": {},
   "outputs": [],
   "source": [
    "ds_grid['gla_flag'].attrs={'value_mean':'0->no glacier, 1->glacier&dh, -1->no dh'}\n",
    "\n",
    "ds_grid['gla_ratio'].attrs={'long_name':'Proportion of glacier area to grid area',\n",
    "                     'units':'%'}\n",
    "ds_grid['dh'].attrs={'long_name':'Elevation difference from srtm-dem and topo-dem',\n",
    "                     'units':'m'}\n",
    "ds_grid['res_error'].attrs={'long_name':'errors in resampling',\n",
    "                     'units':'m'}\n",
    "ds_grid['dxt_year'].attrs={'long_name':'Year of aerial photograph'}\n",
    "ds_grid['dh_error'].attrs={'long_name':'Elevation difference errors','units':'m'}\n",
    "ds_grid['mb_error'].attrs={'long_name':'Mass balance errors','units':'m'}\n",
    "ds_grid['mb'].attrs={'long_name':'Mass balance','units':'m'}"
   ]
  },
  {
   "cell_type": "code",
   "execution_count": null,
   "id": "5e7df05b-ede9-47bf-b7e1-c6c3cd55110d",
   "metadata": {},
   "outputs": [],
   "source": []
  },
  {
   "cell_type": "code",
   "execution_count": 60,
   "id": "fd395d13-0ee9-4b0c-bd6f-6ef808019658",
   "metadata": {},
   "outputs": [],
   "source": [
    "ds_grid=ds_grid.sortby('y',ascending=False)\n",
    "#ds_grid.attrs['transform']=(0.1, 0.0, 75, 0.0, -0.1, 40)\n",
    "#####################################\n",
    "ds_grid.attrs={'crs':'+proj=longlat +datum=WGS84 +no_defs',\n",
    "               'transform':(0.5, 0.0, 75,0.0, -0.5, 40),\n",
    "               'res': (0.5,0.5),\n",
    "               'nodatavals': 'nan','coords_format':'Grid center',\n",
    "               'created date':'2024-02','institute':'Yunnan University',\n",
    "              'authors':'Zhu Yu; Liu Shiyin*','email':'shiyin.liu@ynu.edu.cn; yuzhu@mail.ynu.edu.cn'}\n"
   ]
  },
  {
   "cell_type": "code",
   "execution_count": 61,
   "id": "durable-lover",
   "metadata": {},
   "outputs": [
    {
     "data": {
      "text/plain": [
       "(<xarray.DataArray ()> Size: 8B\n",
       " array(-0.29077758),\n",
       " <xarray.DataArray 'dh' ()> Size: 8B\n",
       " array(-9.23290627))"
      ]
     },
     "execution_count": 61,
     "metadata": {},
     "output_type": "execute_result"
    }
   ],
   "source": [
    "(ds_grid['dh']/(2000-ds_grid['dxt_year'])*0.85).mean(),ds_grid['dh'].mean()"
   ]
  },
  {
   "cell_type": "code",
   "execution_count": 62,
   "id": "forbidden-relief",
   "metadata": {},
   "outputs": [],
   "source": [
    "ds_grid1=ds_grid.rio.write_crs('epsg:4326')\n",
    "ds_grid0=ds_grid1.rio.set_spatial_dims(x_dim='x',y_dim='y')\n",
    "ds_grid0.to_netcdf(pth+'/dh_swr_0.5deg_1970s-2000_v3.nc')"
   ]
  },
  {
   "cell_type": "code",
   "execution_count": 65,
   "id": "occasional-visibility",
   "metadata": {},
   "outputs": [],
   "source": [
    "ds_grid01=ds_grid0.where(ds_grid0['dh']<0)\n",
    "\n",
    "ds_grid01=ds_grid01.rio.write_crs('epsg:4326')\n",
    "ds_grid01.to_netcdf(pth+'/dh_swr_0.5deg_1970s-2000_v3_le0.nc')"
   ]
  },
  {
   "cell_type": "code",
   "execution_count": 64,
   "id": "worse-charleston",
   "metadata": {},
   "outputs": [
    {
     "data": {
      "text/plain": [
       "<matplotlib.collections.QuadMesh at 0x26e01045c70>"
      ]
     },
     "execution_count": 64,
     "metadata": {},
     "output_type": "execute_result"
    },
    {
     "data": {
      "image/png": "[encoded data removed]",
      "text/plain": [
       "<Figure size 400x400 with 2 Axes>"
      ]
     },
     "metadata": {
      "image/png": {
       "height": 400,
       "width": 400
      }
     },
     "output_type": "display_data"
    }
   ],
   "source": [
    "ds_grid0['mb'].plot()"
   ]
  },
  {
   "cell_type": "code",
   "execution_count": 97,
   "id": "cdb165f2-ad04-4176-8310-506aa8844434",
   "metadata": {},
   "outputs": [
    {
     "data": {
      "text/plain": [
       "<matplotlib.collections.QuadMesh at 0x23f0947c640>"
      ]
     },
     "execution_count": 97,
     "metadata": {},
     "output_type": "execute_result"
    },
    {
     "data": {
      "image/png": "[encoded data removed]",
      "text/plain": [
       "<Figure size 400x400 with 2 Axes>"
      ]
     },
     "metadata": {
      "image/png": {
       "height": 400,
       "width": 400
      }
     },
     "output_type": "display_data"
    }
   ],
   "source": [
    "ds_grid0['gla_flag'].plot()"
   ]
  },
  {
   "cell_type": "code",
   "execution_count": null,
   "id": "f83233e7-2ea1-48b3-8d4c-9cd451350bc6",
   "metadata": {},
   "outputs": [],
   "source": []
  }
 ],
 "metadata": {
  "kernelspec": {
   "display_name": "py39",
   "language": "python",
   "name": "py39"
  },
  "language_info": {
   "codemirror_mode": {
    "name": "ipython",
    "version": 3
   },
   "file_extension": ".py",
   "mimetype": "text/x-python",
   "name": "python",
   "nbconvert_exporter": "python",
   "pygments_lexer": "ipython3",
   "version": "3.9.19"
  }
 },
 "nbformat": 4,
 "nbformat_minor": 5
}
